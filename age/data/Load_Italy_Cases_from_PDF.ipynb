{
  "nbformat": 4,
  "nbformat_minor": 0,
  "metadata": {
    "colab": {
      "name": "Load Italy Cases from PDF",
      "provenance": [],
      "collapsed_sections": [],
      "authorship_tag": "ABX9TyOJ6TlaThh1OsFxD0M+1JLI",
      "include_colab_link": true
    },
    "kernelspec": {
      "name": "python3",
      "display_name": "Python 3"
    }
  },
  "cells": [
    {
      "cell_type": "markdown",
      "metadata": {
        "id": "view-in-github",
        "colab_type": "text"
      },
      "source": [
        "<a href=\"https://colab.research.google.com/github/rs-delve/covid19_datasets/blob/master/age/data/Load_Italy_Cases_from_PDF.ipynb\" target=\"_parent\"><img src=\"https://colab.research.google.com/assets/colab-badge.svg\" alt=\"Open In Colab\"/></a>"
      ]
    },
    {
      "cell_type": "code",
      "metadata": {
        "id": "wB3D4LkEY5D4",
        "colab_type": "code",
        "colab": {
          "base_uri": "https://localhost:8080/",
          "height": 34
        },
        "outputId": "87bd73a3-4056-46e7-85c2-87a90a24f4a5"
      },
      "source": [
        "%pip install -q tabula-py\n",
        "import tabula\n",
        "import pandas as pd"
      ],
      "execution_count": 3,
      "outputs": [
        {
          "output_type": "stream",
          "text": [
            "\u001b[K     |████████████████████████████████| 10.4MB 2.6MB/s \n",
            "\u001b[?25h"
          ],
          "name": "stdout"
        }
      ]
    },
    {
      "cell_type": "code",
      "metadata": {
        "id": "rxf6W2E-Y7y4",
        "colab_type": "code",
        "colab": {}
      },
      "source": [
        "italy_cases_pdfs = {  # Value is tuple(URL, Page Number, Parameter Set Index)\n",
        "    '30 June 2020': ('https://www.epicentro.iss.it/coronavirus/bollettino/Bollettino-sorveglianza-integrata-COVID-19_30-giugno-2020.pdf', 6, 0),\n",
        "    '23 June 2020': ('https://www.epicentro.iss.it/coronavirus/bollettino/Bollettino-sorveglianza-integrata-COVID-19_23-giugno-2020.pdf', 7, 0),\n",
        "    '16 June 2020': ('https://www.epicentro.iss.it/coronavirus/bollettino/Bollettino-sorveglianza-integrata-COVID-19_16-giugno-2020.pdf', 6, 0),\n",
        "    '9 June 2020': ('https://www.epicentro.iss.it/coronavirus/bollettino/Bollettino-sorveglianza-integrata-COVID-19_9-giugno-2020.pdf', 6, 1),  # Measurements are different!! \n",
        "    '3 June 2020': ('https://www.epicentro.iss.it/coronavirus/bollettino/Bollettino-sorveglianza-integrata-COVID-19_3-giugno-2020.pdf', 6, 1),\n",
        "    '26 May 2020': ('https://www.epicentro.iss.it/coronavirus/bollettino/Bollettino-sorveglianza-integrata-COVID-19_26-maggio-2020.pdf', 6, 1),\n",
        "    '20 May 2020': ('https://www.epicentro.iss.it/coronavirus/bollettino/Bollettino-sorveglianza-integrata-COVID-19_20-maggio-2020.pdf', 7, 1),  \n",
        "    '14 May 2020': ('https://www.epicentro.iss.it/coronavirus/bollettino/Bollettino-sorveglianza-integrata-COVID-19_14-maggio-2020.pdf', 7, 1),\n",
        "    '7 May 2020': ('https://www.epicentro.iss.it/coronavirus/bollettino/Bollettino-sorveglianza-integrata-COVID-19_7-maggio-2020.pdf', 8, 1),\n",
        "    '28 April 2020': ('https://www.epicentro.iss.it/coronavirus/bollettino/Bollettino-sorveglianza-integrata-COVID-19_28-aprile-2020.pdf', 8, 1),\n",
        "    '23 April 2020': ('https://www.epicentro.iss.it/coronavirus/bollettino/Bollettino-sorveglianza-integrata-COVID-19_23-aprile-2020.pdf', 7, 1),\n",
        "    '16 April 2020': ('https://www.epicentro.iss.it/coronavirus/bollettino/Bollettino-sorveglianza-integrata-COVID-19_16-aprile-2020.pdf', 7, 1),\n",
        "    '9 April 2020': ('https://www.epicentro.iss.it/coronavirus/bollettino/Bollettino-sorveglianza-integrata-COVID-19_9-aprile-2020.pdf', 8, 1),\n",
        "    '2 April 2020': ('https://www.epicentro.iss.it/coronavirus/bollettino/Bollettino-sorveglianza-integrata-COVID-19_2-aprile-2020.pdf', 6, 2),  # Measurements change again here\n",
        "    '30 March 2020': ('https://www.epicentro.iss.it/coronavirus/bollettino/Bollettino-sorveglianza-integrata-COVID-19_30-marzo-2020.pdf', 6, 2)\n",
        "}\n",
        "\n",
        "measurement_sets = [\n",
        "    # (top left bottom right) (row_start, row_end), (column boundaries), [Drop columns]\n",
        "    (2.73*72, 0.35*72, 5.18*72, 5.05*72),  \n",
        "    (4*72, 0.78*72, 6.44*72, 5.32*72),\n",
        "    (4.28*72, 0.78*72, 6.59*72, 5.32*72)\n",
        "]\n",
        "\n",
        "age_groups = ['0-9', '10-19', '20-29', '30-39', '40-49', '50-59', '60-69', '70-79', '80-89', '>90']"
      ],
      "execution_count": 40,
      "outputs": []
    },
    {
      "cell_type": "code",
      "metadata": {
        "id": "guEzv9v0APGZ",
        "colab_type": "code",
        "colab": {
          "base_uri": "https://localhost:8080/",
          "height": 788
        },
        "outputId": "f9d80b57-06fe-4abf-970e-f9b7869d0a89"
      },
      "source": [
        "url = 'https://www.epicentro.iss.it/coronavirus/bollettino/Bollettino-sorveglianza-integrata-COVID-19_3-giugno-2020.pdf'\n",
        "page = 6\n",
        "param_idx = 1\n",
        "date = '30 June 2020'\n",
        "\n",
        "measurements = measurement_sets[param_idx]\n",
        "print('Date:', date, 'URL:', url, 'Page:', page, 'Param set:', param_idx)\n",
        "\n",
        "df = tabula.read_pdf(url, output_format='dataframe', pages=page, guess=False, area=measurements, pandas_options={'dtype': 'str', 'header': None}, )\n",
        "age_df = df[0].iloc[:, [0, 1, -1]]\n",
        "age_df.columns = ['Age', 'm', 'f']\n",
        "age_df.Age = age_df.Age.replace('≥90', '>90')\n",
        "age_df = age_df[age_df.Age.isin(age_groups)]\n",
        "for age_grp in age_groups:\n",
        "  assert age_grp in age_df.Age.values, f'Missing age group: {age_grp}'\n",
        "\n",
        "def convert(s):\n",
        "  return int(str(s).replace('.', ''))\n",
        "\n",
        "age_df.m = age_df.m.apply(convert)\n",
        "age_df.f = age_df.f.apply(convert)\n",
        "\n",
        "age_df['Date'] = pd.to_datetime(date)\n",
        "age_df = age_df.set_index(['Date', 'Age']).stack().reset_index().rename(columns={'level_2': 'Sex', 0: 'cases_new'})\n",
        "age_df"
      ],
      "execution_count": 43,
      "outputs": [
        {
          "output_type": "stream",
          "text": [
            "Date: 30 June 2020 URL: https://www.epicentro.iss.it/coronavirus/bollettino/Bollettino-sorveglianza-integrata-COVID-19_3-giugno-2020.pdf Page: 6 Param set: 1\n"
          ],
          "name": "stdout"
        },
        {
          "output_type": "stream",
          "text": [
            "/usr/local/lib/python3.6/dist-packages/pandas/core/generic.py:5303: SettingWithCopyWarning: \n",
            "A value is trying to be set on a copy of a slice from a DataFrame.\n",
            "Try using .loc[row_indexer,col_indexer] = value instead\n",
            "\n",
            "See the caveats in the documentation: https://pandas.pydata.org/pandas-docs/stable/user_guide/indexing.html#returning-a-view-versus-a-copy\n",
            "  self[name] = value\n"
          ],
          "name": "stderr"
        },
        {
          "output_type": "execute_result",
          "data": {
            "text/html": [
              "<div>\n",
              "<style scoped>\n",
              "    .dataframe tbody tr th:only-of-type {\n",
              "        vertical-align: middle;\n",
              "    }\n",
              "\n",
              "    .dataframe tbody tr th {\n",
              "        vertical-align: top;\n",
              "    }\n",
              "\n",
              "    .dataframe thead th {\n",
              "        text-align: right;\n",
              "    }\n",
              "</style>\n",
              "<table border=\"1\" class=\"dataframe\">\n",
              "  <thead>\n",
              "    <tr style=\"text-align: right;\">\n",
              "      <th></th>\n",
              "      <th>Date</th>\n",
              "      <th>Age</th>\n",
              "      <th>Sex</th>\n",
              "      <th>cases_new</th>\n",
              "    </tr>\n",
              "  </thead>\n",
              "  <tbody>\n",
              "    <tr>\n",
              "      <th>0</th>\n",
              "      <td>2020-06-30</td>\n",
              "      <td>0-9</td>\n",
              "      <td>m</td>\n",
              "      <td>1047</td>\n",
              "    </tr>\n",
              "    <tr>\n",
              "      <th>1</th>\n",
              "      <td>2020-06-30</td>\n",
              "      <td>0-9</td>\n",
              "      <td>f</td>\n",
              "      <td>938</td>\n",
              "    </tr>\n",
              "    <tr>\n",
              "      <th>2</th>\n",
              "      <td>2020-06-30</td>\n",
              "      <td>10-19</td>\n",
              "      <td>m</td>\n",
              "      <td>1799</td>\n",
              "    </tr>\n",
              "    <tr>\n",
              "      <th>3</th>\n",
              "      <td>2020-06-30</td>\n",
              "      <td>10-19</td>\n",
              "      <td>f</td>\n",
              "      <td>1771</td>\n",
              "    </tr>\n",
              "    <tr>\n",
              "      <th>4</th>\n",
              "      <td>2020-06-30</td>\n",
              "      <td>20-29</td>\n",
              "      <td>m</td>\n",
              "      <td>5826</td>\n",
              "    </tr>\n",
              "    <tr>\n",
              "      <th>5</th>\n",
              "      <td>2020-06-30</td>\n",
              "      <td>20-29</td>\n",
              "      <td>f</td>\n",
              "      <td>7416</td>\n",
              "    </tr>\n",
              "    <tr>\n",
              "      <th>6</th>\n",
              "      <td>2020-06-30</td>\n",
              "      <td>30-39</td>\n",
              "      <td>m</td>\n",
              "      <td>8187</td>\n",
              "    </tr>\n",
              "    <tr>\n",
              "      <th>7</th>\n",
              "      <td>2020-06-30</td>\n",
              "      <td>30-39</td>\n",
              "      <td>f</td>\n",
              "      <td>10094</td>\n",
              "    </tr>\n",
              "    <tr>\n",
              "      <th>8</th>\n",
              "      <td>2020-06-30</td>\n",
              "      <td>40-49</td>\n",
              "      <td>m</td>\n",
              "      <td>12722</td>\n",
              "    </tr>\n",
              "    <tr>\n",
              "      <th>9</th>\n",
              "      <td>2020-06-30</td>\n",
              "      <td>40-49</td>\n",
              "      <td>f</td>\n",
              "      <td>17720</td>\n",
              "    </tr>\n",
              "    <tr>\n",
              "      <th>10</th>\n",
              "      <td>2020-06-30</td>\n",
              "      <td>50-59</td>\n",
              "      <td>m</td>\n",
              "      <td>19454</td>\n",
              "    </tr>\n",
              "    <tr>\n",
              "      <th>11</th>\n",
              "      <td>2020-06-30</td>\n",
              "      <td>50-59</td>\n",
              "      <td>f</td>\n",
              "      <td>22580</td>\n",
              "    </tr>\n",
              "    <tr>\n",
              "      <th>12</th>\n",
              "      <td>2020-06-30</td>\n",
              "      <td>60-69</td>\n",
              "      <td>m</td>\n",
              "      <td>18694</td>\n",
              "    </tr>\n",
              "    <tr>\n",
              "      <th>13</th>\n",
              "      <td>2020-06-30</td>\n",
              "      <td>60-69</td>\n",
              "      <td>f</td>\n",
              "      <td>12591</td>\n",
              "    </tr>\n",
              "    <tr>\n",
              "      <th>14</th>\n",
              "      <td>2020-06-30</td>\n",
              "      <td>70-79</td>\n",
              "      <td>m</td>\n",
              "      <td>19184</td>\n",
              "    </tr>\n",
              "    <tr>\n",
              "      <th>15</th>\n",
              "      <td>2020-06-30</td>\n",
              "      <td>70-79</td>\n",
              "      <td>f</td>\n",
              "      <td>14289</td>\n",
              "    </tr>\n",
              "    <tr>\n",
              "      <th>16</th>\n",
              "      <td>2020-06-30</td>\n",
              "      <td>80-89</td>\n",
              "      <td>m</td>\n",
              "      <td>16590</td>\n",
              "    </tr>\n",
              "    <tr>\n",
              "      <th>17</th>\n",
              "      <td>2020-06-30</td>\n",
              "      <td>80-89</td>\n",
              "      <td>f</td>\n",
              "      <td>24303</td>\n",
              "    </tr>\n",
              "    <tr>\n",
              "      <th>18</th>\n",
              "      <td>2020-06-30</td>\n",
              "      <td>&gt;90</td>\n",
              "      <td>m</td>\n",
              "      <td>3846</td>\n",
              "    </tr>\n",
              "    <tr>\n",
              "      <th>19</th>\n",
              "      <td>2020-06-30</td>\n",
              "      <td>&gt;90</td>\n",
              "      <td>f</td>\n",
              "      <td>14990</td>\n",
              "    </tr>\n",
              "  </tbody>\n",
              "</table>\n",
              "</div>"
            ],
            "text/plain": [
              "         Date    Age Sex  cases_new\n",
              "0  2020-06-30    0-9   m       1047\n",
              "1  2020-06-30    0-9   f        938\n",
              "2  2020-06-30  10-19   m       1799\n",
              "3  2020-06-30  10-19   f       1771\n",
              "4  2020-06-30  20-29   m       5826\n",
              "5  2020-06-30  20-29   f       7416\n",
              "6  2020-06-30  30-39   m       8187\n",
              "7  2020-06-30  30-39   f      10094\n",
              "8  2020-06-30  40-49   m      12722\n",
              "9  2020-06-30  40-49   f      17720\n",
              "10 2020-06-30  50-59   m      19454\n",
              "11 2020-06-30  50-59   f      22580\n",
              "12 2020-06-30  60-69   m      18694\n",
              "13 2020-06-30  60-69   f      12591\n",
              "14 2020-06-30  70-79   m      19184\n",
              "15 2020-06-30  70-79   f      14289\n",
              "16 2020-06-30  80-89   m      16590\n",
              "17 2020-06-30  80-89   f      24303\n",
              "18 2020-06-30    >90   m       3846\n",
              "19 2020-06-30    >90   f      14990"
            ]
          },
          "metadata": {
            "tags": []
          },
          "execution_count": 43
        }
      ]
    },
    {
      "cell_type": "code",
      "metadata": {
        "id": "s-f828G9cUze",
        "colab_type": "code",
        "colab": {
          "base_uri": "https://localhost:8080/",
          "height": 1000
        },
        "outputId": "ac39ef73-8760-4813-9cc3-e3b79a6e1952"
      },
      "source": [
        "all_age_dfs = []\n",
        "\n",
        "for date, (url, page, param_idx) in italy_cases_pdfs.items():\n",
        "  print('Date:', date, 'URL:', url, 'Page:', page, 'Param set:', param_idx)\n",
        "  measurements = measurement_sets[param_idx]\n",
        "\n",
        "  df = tabula.read_pdf(url, output_format='dataframe', pages=page, guess=False, area=measurements, pandas_options={'dtype': 'str', 'header': None})\n",
        "\n",
        "  age_df = df[0].iloc[:, [0, 1, -1]]\n",
        "  age_df.columns = ['Age', 'm', 'f']\n",
        "  age_df.Age = age_df.Age.replace('≥90', '>90')\n",
        "  age_df = age_df[age_df.Age.isin(age_groups)]\n",
        "  for age_grp in age_groups:\n",
        "    assert age_grp in age_df.Age.values, f'Missing age group: {age_grp}'\n",
        "\n",
        "  def convert(s):\n",
        "    return int(str(s).replace('.', ''))\n",
        "\n",
        "  age_df.m = age_df.m.apply(convert)\n",
        "  age_df.f = age_df.f.apply(convert)\n",
        "\n",
        "  age_df['Date'] = pd.to_datetime(date)\n",
        "  age_df = age_df.set_index(['Date', 'Age']).stack().reset_index().rename(columns={'level_2': 'Sex', 0: 'cases_new'})\n",
        "  all_age_dfs.append(age_df)"
      ],
      "execution_count": 45,
      "outputs": [
        {
          "output_type": "stream",
          "text": [
            "Date: 30 June 2020 URL: https://www.epicentro.iss.it/coronavirus/bollettino/Bollettino-sorveglianza-integrata-COVID-19_30-giugno-2020.pdf Page: 6 Param set: 0\n"
          ],
          "name": "stdout"
        },
        {
          "output_type": "stream",
          "text": [
            "/usr/local/lib/python3.6/dist-packages/pandas/core/generic.py:5303: SettingWithCopyWarning: \n",
            "A value is trying to be set on a copy of a slice from a DataFrame.\n",
            "Try using .loc[row_indexer,col_indexer] = value instead\n",
            "\n",
            "See the caveats in the documentation: https://pandas.pydata.org/pandas-docs/stable/user_guide/indexing.html#returning-a-view-versus-a-copy\n",
            "  self[name] = value\n"
          ],
          "name": "stderr"
        },
        {
          "output_type": "stream",
          "text": [
            "Date: 23 June 2020 URL: https://www.epicentro.iss.it/coronavirus/bollettino/Bollettino-sorveglianza-integrata-COVID-19_23-giugno-2020.pdf Page: 7 Param set: 0\n"
          ],
          "name": "stdout"
        },
        {
          "output_type": "stream",
          "text": [
            "/usr/local/lib/python3.6/dist-packages/pandas/core/generic.py:5303: SettingWithCopyWarning: \n",
            "A value is trying to be set on a copy of a slice from a DataFrame.\n",
            "Try using .loc[row_indexer,col_indexer] = value instead\n",
            "\n",
            "See the caveats in the documentation: https://pandas.pydata.org/pandas-docs/stable/user_guide/indexing.html#returning-a-view-versus-a-copy\n",
            "  self[name] = value\n"
          ],
          "name": "stderr"
        },
        {
          "output_type": "stream",
          "text": [
            "Date: 16 June 2020 URL: https://www.epicentro.iss.it/coronavirus/bollettino/Bollettino-sorveglianza-integrata-COVID-19_16-giugno-2020.pdf Page: 6 Param set: 0\n"
          ],
          "name": "stdout"
        },
        {
          "output_type": "stream",
          "text": [
            "/usr/local/lib/python3.6/dist-packages/pandas/core/generic.py:5303: SettingWithCopyWarning: \n",
            "A value is trying to be set on a copy of a slice from a DataFrame.\n",
            "Try using .loc[row_indexer,col_indexer] = value instead\n",
            "\n",
            "See the caveats in the documentation: https://pandas.pydata.org/pandas-docs/stable/user_guide/indexing.html#returning-a-view-versus-a-copy\n",
            "  self[name] = value\n"
          ],
          "name": "stderr"
        },
        {
          "output_type": "stream",
          "text": [
            "Date: 9 June 2020 URL: https://www.epicentro.iss.it/coronavirus/bollettino/Bollettino-sorveglianza-integrata-COVID-19_9-giugno-2020.pdf Page: 6 Param set: 1\n"
          ],
          "name": "stdout"
        },
        {
          "output_type": "stream",
          "text": [
            "/usr/local/lib/python3.6/dist-packages/pandas/core/generic.py:5303: SettingWithCopyWarning: \n",
            "A value is trying to be set on a copy of a slice from a DataFrame.\n",
            "Try using .loc[row_indexer,col_indexer] = value instead\n",
            "\n",
            "See the caveats in the documentation: https://pandas.pydata.org/pandas-docs/stable/user_guide/indexing.html#returning-a-view-versus-a-copy\n",
            "  self[name] = value\n"
          ],
          "name": "stderr"
        },
        {
          "output_type": "stream",
          "text": [
            "Date: 3 June 2020 URL: https://www.epicentro.iss.it/coronavirus/bollettino/Bollettino-sorveglianza-integrata-COVID-19_3-giugno-2020.pdf Page: 6 Param set: 1\n"
          ],
          "name": "stdout"
        },
        {
          "output_type": "stream",
          "text": [
            "/usr/local/lib/python3.6/dist-packages/pandas/core/generic.py:5303: SettingWithCopyWarning: \n",
            "A value is trying to be set on a copy of a slice from a DataFrame.\n",
            "Try using .loc[row_indexer,col_indexer] = value instead\n",
            "\n",
            "See the caveats in the documentation: https://pandas.pydata.org/pandas-docs/stable/user_guide/indexing.html#returning-a-view-versus-a-copy\n",
            "  self[name] = value\n"
          ],
          "name": "stderr"
        },
        {
          "output_type": "stream",
          "text": [
            "Date: 26 May 2020 URL: https://www.epicentro.iss.it/coronavirus/bollettino/Bollettino-sorveglianza-integrata-COVID-19_26-maggio-2020.pdf Page: 6 Param set: 1\n"
          ],
          "name": "stdout"
        },
        {
          "output_type": "stream",
          "text": [
            "/usr/local/lib/python3.6/dist-packages/pandas/core/generic.py:5303: SettingWithCopyWarning: \n",
            "A value is trying to be set on a copy of a slice from a DataFrame.\n",
            "Try using .loc[row_indexer,col_indexer] = value instead\n",
            "\n",
            "See the caveats in the documentation: https://pandas.pydata.org/pandas-docs/stable/user_guide/indexing.html#returning-a-view-versus-a-copy\n",
            "  self[name] = value\n"
          ],
          "name": "stderr"
        },
        {
          "output_type": "stream",
          "text": [
            "Date: 20 May 2020 URL: https://www.epicentro.iss.it/coronavirus/bollettino/Bollettino-sorveglianza-integrata-COVID-19_20-maggio-2020.pdf Page: 7 Param set: 1\n"
          ],
          "name": "stdout"
        },
        {
          "output_type": "stream",
          "text": [
            "/usr/local/lib/python3.6/dist-packages/pandas/core/generic.py:5303: SettingWithCopyWarning: \n",
            "A value is trying to be set on a copy of a slice from a DataFrame.\n",
            "Try using .loc[row_indexer,col_indexer] = value instead\n",
            "\n",
            "See the caveats in the documentation: https://pandas.pydata.org/pandas-docs/stable/user_guide/indexing.html#returning-a-view-versus-a-copy\n",
            "  self[name] = value\n"
          ],
          "name": "stderr"
        },
        {
          "output_type": "stream",
          "text": [
            "Date: 14 May 2020 URL: https://www.epicentro.iss.it/coronavirus/bollettino/Bollettino-sorveglianza-integrata-COVID-19_14-maggio-2020.pdf Page: 7 Param set: 1\n"
          ],
          "name": "stdout"
        },
        {
          "output_type": "stream",
          "text": [
            "/usr/local/lib/python3.6/dist-packages/pandas/core/generic.py:5303: SettingWithCopyWarning: \n",
            "A value is trying to be set on a copy of a slice from a DataFrame.\n",
            "Try using .loc[row_indexer,col_indexer] = value instead\n",
            "\n",
            "See the caveats in the documentation: https://pandas.pydata.org/pandas-docs/stable/user_guide/indexing.html#returning-a-view-versus-a-copy\n",
            "  self[name] = value\n"
          ],
          "name": "stderr"
        },
        {
          "output_type": "stream",
          "text": [
            "Date: 7 May 2020 URL: https://www.epicentro.iss.it/coronavirus/bollettino/Bollettino-sorveglianza-integrata-COVID-19_7-maggio-2020.pdf Page: 8 Param set: 1\n"
          ],
          "name": "stdout"
        },
        {
          "output_type": "stream",
          "text": [
            "/usr/local/lib/python3.6/dist-packages/pandas/core/generic.py:5303: SettingWithCopyWarning: \n",
            "A value is trying to be set on a copy of a slice from a DataFrame.\n",
            "Try using .loc[row_indexer,col_indexer] = value instead\n",
            "\n",
            "See the caveats in the documentation: https://pandas.pydata.org/pandas-docs/stable/user_guide/indexing.html#returning-a-view-versus-a-copy\n",
            "  self[name] = value\n"
          ],
          "name": "stderr"
        },
        {
          "output_type": "stream",
          "text": [
            "Date: 28 April 2020 URL: https://www.epicentro.iss.it/coronavirus/bollettino/Bollettino-sorveglianza-integrata-COVID-19_28-aprile-2020.pdf Page: 8 Param set: 1\n"
          ],
          "name": "stdout"
        },
        {
          "output_type": "stream",
          "text": [
            "/usr/local/lib/python3.6/dist-packages/pandas/core/generic.py:5303: SettingWithCopyWarning: \n",
            "A value is trying to be set on a copy of a slice from a DataFrame.\n",
            "Try using .loc[row_indexer,col_indexer] = value instead\n",
            "\n",
            "See the caveats in the documentation: https://pandas.pydata.org/pandas-docs/stable/user_guide/indexing.html#returning-a-view-versus-a-copy\n",
            "  self[name] = value\n"
          ],
          "name": "stderr"
        },
        {
          "output_type": "stream",
          "text": [
            "Date: 23 April 2020 URL: https://www.epicentro.iss.it/coronavirus/bollettino/Bollettino-sorveglianza-integrata-COVID-19_23-aprile-2020.pdf Page: 7 Param set: 1\n"
          ],
          "name": "stdout"
        },
        {
          "output_type": "stream",
          "text": [
            "/usr/local/lib/python3.6/dist-packages/pandas/core/generic.py:5303: SettingWithCopyWarning: \n",
            "A value is trying to be set on a copy of a slice from a DataFrame.\n",
            "Try using .loc[row_indexer,col_indexer] = value instead\n",
            "\n",
            "See the caveats in the documentation: https://pandas.pydata.org/pandas-docs/stable/user_guide/indexing.html#returning-a-view-versus-a-copy\n",
            "  self[name] = value\n"
          ],
          "name": "stderr"
        },
        {
          "output_type": "stream",
          "text": [
            "Date: 16 April 2020 URL: https://www.epicentro.iss.it/coronavirus/bollettino/Bollettino-sorveglianza-integrata-COVID-19_16-aprile-2020.pdf Page: 7 Param set: 1\n"
          ],
          "name": "stdout"
        },
        {
          "output_type": "stream",
          "text": [
            "/usr/local/lib/python3.6/dist-packages/pandas/core/generic.py:5303: SettingWithCopyWarning: \n",
            "A value is trying to be set on a copy of a slice from a DataFrame.\n",
            "Try using .loc[row_indexer,col_indexer] = value instead\n",
            "\n",
            "See the caveats in the documentation: https://pandas.pydata.org/pandas-docs/stable/user_guide/indexing.html#returning-a-view-versus-a-copy\n",
            "  self[name] = value\n"
          ],
          "name": "stderr"
        },
        {
          "output_type": "stream",
          "text": [
            "Date: 9 April 2020 URL: https://www.epicentro.iss.it/coronavirus/bollettino/Bollettino-sorveglianza-integrata-COVID-19_9-aprile-2020.pdf Page: 8 Param set: 1\n"
          ],
          "name": "stdout"
        },
        {
          "output_type": "stream",
          "text": [
            "/usr/local/lib/python3.6/dist-packages/pandas/core/generic.py:5303: SettingWithCopyWarning: \n",
            "A value is trying to be set on a copy of a slice from a DataFrame.\n",
            "Try using .loc[row_indexer,col_indexer] = value instead\n",
            "\n",
            "See the caveats in the documentation: https://pandas.pydata.org/pandas-docs/stable/user_guide/indexing.html#returning-a-view-versus-a-copy\n",
            "  self[name] = value\n"
          ],
          "name": "stderr"
        },
        {
          "output_type": "stream",
          "text": [
            "Date: 2 April 2020 URL: https://www.epicentro.iss.it/coronavirus/bollettino/Bollettino-sorveglianza-integrata-COVID-19_2-aprile-2020.pdf Page: 6 Param set: 2\n"
          ],
          "name": "stdout"
        },
        {
          "output_type": "stream",
          "text": [
            "/usr/local/lib/python3.6/dist-packages/pandas/core/generic.py:5303: SettingWithCopyWarning: \n",
            "A value is trying to be set on a copy of a slice from a DataFrame.\n",
            "Try using .loc[row_indexer,col_indexer] = value instead\n",
            "\n",
            "See the caveats in the documentation: https://pandas.pydata.org/pandas-docs/stable/user_guide/indexing.html#returning-a-view-versus-a-copy\n",
            "  self[name] = value\n"
          ],
          "name": "stderr"
        },
        {
          "output_type": "stream",
          "text": [
            "Date: 30 March 2020 URL: https://www.epicentro.iss.it/coronavirus/bollettino/Bollettino-sorveglianza-integrata-COVID-19_30-marzo-2020.pdf Page: 6 Param set: 2\n"
          ],
          "name": "stdout"
        },
        {
          "output_type": "stream",
          "text": [
            "/usr/local/lib/python3.6/dist-packages/pandas/core/generic.py:5303: SettingWithCopyWarning: \n",
            "A value is trying to be set on a copy of a slice from a DataFrame.\n",
            "Try using .loc[row_indexer,col_indexer] = value instead\n",
            "\n",
            "See the caveats in the documentation: https://pandas.pydata.org/pandas-docs/stable/user_guide/indexing.html#returning-a-view-versus-a-copy\n",
            "  self[name] = value\n"
          ],
          "name": "stderr"
        }
      ]
    },
    {
      "cell_type": "code",
      "metadata": {
        "id": "AkvGgKz_uk4D",
        "colab_type": "code",
        "colab": {
          "base_uri": "https://localhost:8080/",
          "height": 1000
        },
        "outputId": "fd9882c0-934f-4682-df72-92e4c8ab6caa"
      },
      "source": [
        "pd.concat(all_age_dfs, axis=0)"
      ],
      "execution_count": 46,
      "outputs": [
        {
          "output_type": "execute_result",
          "data": {
            "text/plain": [
              "[         Date    Age Sex  cases_new\n",
              " 0  2020-06-30    0-9   m       1154\n",
              " 1  2020-06-30    0-9   f       1035\n",
              " 2  2020-06-30  10-19   m       1954\n",
              " 3  2020-06-30  10-19   f       1949\n",
              " 4  2020-06-30  20-29   m       6204\n",
              " 5  2020-06-30  20-29   f       7797\n",
              " 6  2020-06-30  30-39   m       8586\n",
              " 7  2020-06-30  30-39   f      10508\n",
              " 8  2020-06-30  40-49   m      13197\n",
              " 9  2020-06-30  40-49   f      18231\n",
              " 10 2020-06-30  50-59   m      19867\n",
              " 11 2020-06-30  50-59   f      23172\n",
              " 12 2020-06-30  60-69   m      19069\n",
              " 13 2020-06-30  60-69   f      12987\n",
              " 14 2020-06-30  70-79   m      19489\n",
              " 15 2020-06-30  70-79   f      14640\n",
              " 16 2020-06-30  80-89   m      16777\n",
              " 17 2020-06-30  80-89   f      24702\n",
              " 18 2020-06-30    >90   m       3860\n",
              " 19 2020-06-30    >90   f      15219,          Date    Age Sex  cases_new\n",
              " 0  2020-06-23    0-9   m       1135\n",
              " 1  2020-06-23    0-9   f       1021\n",
              " 2  2020-06-23  10-19   m       1937\n",
              " 3  2020-06-23  10-19   f       1908\n",
              " 4  2020-06-23  20-29   m       6117\n",
              " 5  2020-06-23  20-29   f       7734\n",
              " 6  2020-06-23  30-39   m       8520\n",
              " 7  2020-06-23  30-39   f      10441\n",
              " 8  2020-06-23  40-49   m      13127\n",
              " 9  2020-06-23  40-49   f      18188\n",
              " 10 2020-06-23  50-59   m      19800\n",
              " 11 2020-06-23  50-59   f      23124\n",
              " 12 2020-06-23  60-69   m      19019\n",
              " 13 2020-06-23  60-69   f      12952\n",
              " 14 2020-06-23  70-79   m      19472\n",
              " 15 2020-06-23  70-79   f      14628\n",
              " 16 2020-06-23  80-89   m      16763\n",
              " 17 2020-06-23  80-89   f      24670\n",
              " 18 2020-06-23    >90   m       3869\n",
              " 19 2020-06-23    >90   f      15220,          Date    Age Sex  cases_new\n",
              " 0  2020-06-16    0-9   m       1103\n",
              " 1  2020-06-16    0-9   f        995\n",
              " 2  2020-06-16  10-19   m       1879\n",
              " 3  2020-06-16  10-19   f       1865\n",
              " 4  2020-06-16  20-29   m       6017\n",
              " 5  2020-06-16  20-29   f       7648\n",
              " 6  2020-06-16  30-39   m       8399\n",
              " 7  2020-06-16  30-39   f      10350\n",
              " 8  2020-06-16  40-49   m      12993\n",
              " 9  2020-06-16  40-49   f      18062\n",
              " 10 2020-06-16  50-59   m      19728\n",
              " 11 2020-06-16  50-59   f      22972\n",
              " 12 2020-06-16  60-69   m      18927\n",
              " 13 2020-06-16  60-69   f      12849\n",
              " 14 2020-06-16  70-79   m      19374\n",
              " 15 2020-06-16  70-79   f      14541\n",
              " 16 2020-06-16  80-89   m      16714\n",
              " 17 2020-06-16  80-89   f      24575\n",
              " 18 2020-06-16    >90   m       3859\n",
              " 19 2020-06-16    >90   f      15160,          Date    Age Sex  cases_new\n",
              " 0  2020-06-09    0-9   m       1066\n",
              " 1  2020-06-09    0-9   f        958\n",
              " 2  2020-06-09  10-19   m       1837\n",
              " 3  2020-06-09  10-19   f       1814\n",
              " 4  2020-06-09  20-29   m       5901\n",
              " 5  2020-06-09  20-29   f       7517\n",
              " 6  2020-06-09  30-39   m       8290\n",
              " 7  2020-06-09  30-39   f      10199\n",
              " 8  2020-06-09  40-49   m      12836\n",
              " 9  2020-06-09  40-49   f      17873\n",
              " 10 2020-06-09  50-59   m      19567\n",
              " 11 2020-06-09  50-59   f      22754\n",
              " 12 2020-06-09  60-69   m      18782\n",
              " 13 2020-06-09  60-69   f      12696\n",
              " 14 2020-06-09  70-79   m      19272\n",
              " 15 2020-06-09  70-79   f      14399\n",
              " 16 2020-06-09  80-89   m      16638\n",
              " 17 2020-06-09  80-89   f      24437\n",
              " 18 2020-06-09    >90   m       3850\n",
              " 19 2020-06-09    >90   f      15064,          Date    Age Sex  cases_new\n",
              " 0  2020-06-03    0-9   m       1047\n",
              " 1  2020-06-03    0-9   f        938\n",
              " 2  2020-06-03  10-19   m       1799\n",
              " 3  2020-06-03  10-19   f       1771\n",
              " 4  2020-06-03  20-29   m       5826\n",
              " 5  2020-06-03  20-29   f       7416\n",
              " 6  2020-06-03  30-39   m       8187\n",
              " 7  2020-06-03  30-39   f      10094\n",
              " 8  2020-06-03  40-49   m      12722\n",
              " 9  2020-06-03  40-49   f      17720\n",
              " 10 2020-06-03  50-59   m      19454\n",
              " 11 2020-06-03  50-59   f      22580\n",
              " 12 2020-06-03  60-69   m      18694\n",
              " 13 2020-06-03  60-69   f      12591\n",
              " 14 2020-06-03  70-79   m      19184\n",
              " 15 2020-06-03  70-79   f      14289\n",
              " 16 2020-06-03  80-89   m      16590\n",
              " 17 2020-06-03  80-89   f      24303\n",
              " 18 2020-06-03    >90   m       3846\n",
              " 19 2020-06-03    >90   f      14990,          Date    Age Sex  cases_new\n",
              " 0  2020-05-26    0-9   m       1015\n",
              " 1  2020-05-26    0-9   f        903\n",
              " 2  2020-05-26  10-19   m       1724\n",
              " 3  2020-05-26  10-19   f       1718\n",
              " 4  2020-05-26  20-29   m       5685\n",
              " 5  2020-05-26  20-29   f       7240\n",
              " 6  2020-05-26  30-39   m       8026\n",
              " 7  2020-05-26  30-39   f       9902\n",
              " 8  2020-05-26  40-49   m      12513\n",
              " 9  2020-05-26  40-49   f      17427\n",
              " 10 2020-05-26  50-59   m      19210\n",
              " 11 2020-05-26  50-59   f      22221\n",
              " 12 2020-05-26  60-69   m      18494\n",
              " 13 2020-05-26  60-69   f      12385\n",
              " 14 2020-05-26  70-79   m      19033\n",
              " 15 2020-05-26  70-79   f      14107\n",
              " 16 2020-05-26  80-89   m      16497\n",
              " 17 2020-05-26  80-89   f      24027\n",
              " 18 2020-05-26    >90   m       3818\n",
              " 19 2020-05-26    >90   f      14783,          Date    Age Sex  cases_new\n",
              " 0  2020-05-20    0-9   m        981\n",
              " 1  2020-05-20    0-9   f        867\n",
              " 2  2020-05-20  10-19   m       1654\n",
              " 3  2020-05-20  10-19   f       1658\n",
              " 4  2020-05-20  20-29   m       5521\n",
              " 5  2020-05-20  20-29   f       7070\n",
              " 6  2020-05-20  30-39   m       7868\n",
              " 7  2020-05-20  30-39   f       9654\n",
              " 8  2020-05-20  40-49   m      12312\n",
              " 9  2020-05-20  40-49   f      17076\n",
              " 10 2020-05-20  50-59   m      18963\n",
              " 11 2020-05-20  50-59   f      21836\n",
              " 12 2020-05-20  60-69   m      18290\n",
              " 13 2020-05-20  60-69   f      12175\n",
              " 14 2020-05-20  70-79   m      18883\n",
              " 15 2020-05-20  70-79   f      13940\n",
              " 16 2020-05-20  80-89   m      16357\n",
              " 17 2020-05-20  80-89   f      23715\n",
              " 18 2020-05-20    >90   m       3786\n",
              " 19 2020-05-20    >90   f      14513,          Date    Age Sex  cases_new\n",
              " 0  2020-05-14    0-9   m        942\n",
              " 1  2020-05-14    0-9   f        826\n",
              " 2  2020-05-14  10-19   m       1570\n",
              " 3  2020-05-14  10-19   f       1577\n",
              " 4  2020-05-14  20-29   m       5272\n",
              " 5  2020-05-14  20-29   f       6820\n",
              " 6  2020-05-14  30-39   m       7609\n",
              " 7  2020-05-14  30-39   f       9352\n",
              " 8  2020-05-14  40-49   m      12006\n",
              " 9  2020-05-14  40-49   f      16602\n",
              " 10 2020-05-14  50-59   m      18589\n",
              " 11 2020-05-14  50-59   f      21200\n",
              " 12 2020-05-14  60-69   m      18060\n",
              " 13 2020-05-14  60-69   f      11929\n",
              " 14 2020-05-14  70-79   m      18683\n",
              " 15 2020-05-14  70-79   f      13649\n",
              " 16 2020-05-14  80-89   m      16135\n",
              " 17 2020-05-14  80-89   f      23176\n",
              " 18 2020-05-14    >90   m       3741\n",
              " 19 2020-05-14    >90   f      14106,          Date    Age Sex  cases_new\n",
              " 0  2020-05-07    0-9   m        871\n",
              " 1  2020-05-07    0-9   f        759\n",
              " 2  2020-05-07  10-19   m       1454\n",
              " 3  2020-05-07  10-19   f       1449\n",
              " 4  2020-05-07  20-29   m       4961\n",
              " 5  2020-05-07  20-29   f       6426\n",
              " 6  2020-05-07  30-39   m       7271\n",
              " 7  2020-05-07  30-39   f       8862\n",
              " 8  2020-05-07  40-49   m      11590\n",
              " 9  2020-05-07  40-49   f      15908\n",
              " 10 2020-05-07  50-59   m      18047\n",
              " 11 2020-05-07  50-59   f      20297\n",
              " 12 2020-05-07  60-69   m      17678\n",
              " 13 2020-05-07  60-69   f      11529\n",
              " 14 2020-05-07  70-79   m      18355\n",
              " 15 2020-05-07  70-79   f      13231\n",
              " 16 2020-05-07  80-89   m      15784\n",
              " 17 2020-05-07  80-89   f      22206\n",
              " 18 2020-05-07    >90   m       3632\n",
              " 19 2020-05-07    >90   f      13334,          Date    Age Sex  cases_new\n",
              " 0  2020-04-28    0-9   m        784\n",
              " 1  2020-04-28    0-9   f        682\n",
              " 2  2020-04-28  10-19   m       1250\n",
              " 3  2020-04-28  10-19   f       1254\n",
              " 4  2020-04-28  20-29   m       4476\n",
              " 5  2020-04-28  20-29   f       5828\n",
              " 6  2020-04-28  30-39   m       6712\n",
              " 7  2020-04-28  30-39   f       8141\n",
              " 8  2020-04-28  40-49   m      10882\n",
              " 9  2020-04-28  40-49   f      14692\n",
              " 10 2020-04-28  50-59   m      17077\n",
              " 11 2020-04-28  50-59   f      18840\n",
              " 12 2020-04-28  60-69   m      16991\n",
              " 13 2020-04-28  60-69   f      10838\n",
              " 14 2020-04-28  70-79   m      17652\n",
              " 15 2020-04-28  70-79   f      12468\n",
              " 16 2020-04-28  80-89   m      14943\n",
              " 17 2020-04-28  80-89   f      20271\n",
              " 18 2020-04-28    >90   m       3371\n",
              " 19 2020-04-28    >90   f      11803,          Date    Age Sex  cases_new\n",
              " 0  2020-04-23    0-9   m        687\n",
              " 1  2020-04-23    0-9   f        607\n",
              " 2  2020-04-23  10-19   m       1070\n",
              " 3  2020-04-23  10-19   f       1070\n",
              " 4  2020-04-23  20-29   m       3877\n",
              " 5  2020-04-23  20-29   f       5024\n",
              " 6  2020-04-23  30-39   m       5951\n",
              " 7  2020-04-23  30-39   f       7136\n",
              " 8  2020-04-23  40-49   m       9849\n",
              " 9  2020-04-23  40-49   f      12851\n",
              " 10 2020-04-23  50-59   m      15772\n",
              " 11 2020-04-23  50-59   f      16685\n",
              " 12 2020-04-23  60-69   m      15825\n",
              " 13 2020-04-23  60-69   f       9825\n",
              " 14 2020-04-23  70-79   m      16410\n",
              " 15 2020-04-23  70-79   f      11163\n",
              " 16 2020-04-23  80-89   m      13446\n",
              " 17 2020-04-23  80-89   f      17034\n",
              " 18 2020-04-23    >90   m       2888\n",
              " 19 2020-04-23    >90   f       9429,          Date    Age Sex  cases_new\n",
              " 0  2020-04-16    0-9   m        596\n",
              " 1  2020-04-16    0-9   f        519\n",
              " 2  2020-04-16  10-19   m        901\n",
              " 3  2020-04-16  10-19   f        897\n",
              " 4  2020-04-16  20-29   m       3350\n",
              " 5  2020-04-16  20-29   f       4338\n",
              " 6  2020-04-16  30-39   m       5344\n",
              " 7  2020-04-16  30-39   f       6299\n",
              " 8  2020-04-16  40-49   m       9009\n",
              " 9  2020-04-16  40-49   f      11452\n",
              " 10 2020-04-16  50-59   m      14779\n",
              " 11 2020-04-16  50-59   f      15015\n",
              " 12 2020-04-16  60-69   m      14963\n",
              " 13 2020-04-16  60-69   f       9024\n",
              " 14 2020-04-16  70-79   m      15577\n",
              " 15 2020-04-16  70-79   f      10097\n",
              " 16 2020-04-16  80-89   m      12332\n",
              " 17 2020-04-16  80-89   f      14329\n",
              " 18 2020-04-16    >90   m       2470\n",
              " 19 2020-04-16    >90   f       7333,          Date    Age Sex  cases_new\n",
              " 0  2020-04-09    0-9   m        509\n",
              " 1  2020-04-09    0-9   f        425\n",
              " 2  2020-04-09  10-19   m        717\n",
              " 3  2020-04-09  10-19   f        712\n",
              " 4  2020-04-09  20-29   m       2752\n",
              " 5  2020-04-09  20-29   f       3576\n",
              " 6  2020-04-09  30-39   m       4612\n",
              " 7  2020-04-09  30-39   f       5316\n",
              " 8  2020-04-09  40-49   m       8021\n",
              " 9  2020-04-09  40-49   f       9676\n",
              " 10 2020-04-09  50-59   m      13469\n",
              " 11 2020-04-09  50-59   f      12864\n",
              " 12 2020-04-09  60-69   m      13784\n",
              " 13 2020-04-09  60-69   f       7908\n",
              " 14 2020-04-09  70-79   m      14234\n",
              " 15 2020-04-09  70-79   f       8666\n",
              " 16 2020-04-09  80-89   m      10661\n",
              " 17 2020-04-09  80-89   f      10935\n",
              " 18 2020-04-09    >90   m       1894\n",
              " 19 2020-04-09    >90   f       4941,          Date    Age Sex  cases_new\n",
              " 0  2020-04-02    0-9   m        381\n",
              " 1  2020-04-02    0-9   f        307\n",
              " 2  2020-04-02  10-19   m        475\n",
              " 3  2020-04-02  10-19   f        454\n",
              " 4  2020-04-02  20-29   m       1919\n",
              " 5  2020-04-02  20-29   f       2531\n",
              " 6  2020-04-02  30-39   m       3505\n",
              " 7  2020-04-02  30-39   f       3885\n",
              " 8  2020-04-02  40-49   m       6480\n",
              " 9  2020-04-02  40-49   f       7130\n",
              " 10 2020-04-02  50-59   m      11149\n",
              " 11 2020-04-02  50-59   f       9706\n",
              " 12 2020-04-02  60-69   m      11761\n",
              " 13 2020-04-02  60-69   f       6254\n",
              " 14 2020-04-02  70-79   m      12281\n",
              " 15 2020-04-02  70-79   f       6868\n",
              " 16 2020-04-02  80-89   m       8553\n",
              " 17 2020-04-02  80-89   f       7644\n",
              " 18 2020-04-02    >90   m       1374\n",
              " 19 2020-04-02    >90   f       2973,          Date    Age Sex  cases_new\n",
              " 0  2020-03-30    0-9   m        324\n",
              " 1  2020-03-30    0-9   f        260\n",
              " 2  2020-03-30  10-19   m        392\n",
              " 3  2020-03-30  10-19   f        371\n",
              " 4  2020-03-30  20-29   m       1631\n",
              " 5  2020-03-30  20-29   f        213\n",
              " 6  2020-03-30  30-39   m       3105\n",
              " 7  2020-03-30  30-39   f        335\n",
              " 8  2020-03-30  40-49   m       5802\n",
              " 9  2020-03-30  40-49   f        619\n",
              " 10 2020-03-30  50-59   m      10068\n",
              " 11 2020-03-30  50-59   f        849\n",
              " 12 2020-03-30  60-69   m      10744\n",
              " 13 2020-03-30  60-69   f        558\n",
              " 14 2020-03-30  70-79   m      11236\n",
              " 15 2020-03-30  70-79   f        614\n",
              " 16 2020-03-30  80-89   m       7630\n",
              " 17 2020-03-30  80-89   f        650\n",
              " 18 2020-03-30    >90   m       1160\n",
              " 19 2020-03-30    >90   f        240]"
            ]
          },
          "metadata": {
            "tags": []
          },
          "execution_count": 46
        }
      ]
    },
    {
      "cell_type": "code",
      "metadata": {
        "id": "dQ6XNk-CKQ2V",
        "colab_type": "code",
        "colab": {}
      },
      "source": [
        ""
      ],
      "execution_count": null,
      "outputs": []
    },
    {
      "cell_type": "code",
      "metadata": {
        "id": "ePE9bRFoKJnx",
        "colab_type": "code",
        "colab": {
          "base_uri": "https://localhost:8080/",
          "height": 419
        },
        "outputId": "97a3d820-4fd5-44a9-909f-23733fa140a5"
      },
      "source": [
        "final = pd.concat(all_age_dfs, axis=0)\n"
      ],
      "execution_count": 49,
      "outputs": [
        {
          "output_type": "execute_result",
          "data": {
            "text/html": [
              "<div>\n",
              "<style scoped>\n",
              "    .dataframe tbody tr th:only-of-type {\n",
              "        vertical-align: middle;\n",
              "    }\n",
              "\n",
              "    .dataframe tbody tr th {\n",
              "        vertical-align: top;\n",
              "    }\n",
              "\n",
              "    .dataframe thead th {\n",
              "        text-align: right;\n",
              "    }\n",
              "</style>\n",
              "<table border=\"1\" class=\"dataframe\">\n",
              "  <thead>\n",
              "    <tr style=\"text-align: right;\">\n",
              "      <th></th>\n",
              "      <th>Date</th>\n",
              "      <th>Age</th>\n",
              "      <th>Sex</th>\n",
              "      <th>cases_new</th>\n",
              "    </tr>\n",
              "  </thead>\n",
              "  <tbody>\n",
              "    <tr>\n",
              "      <th>0</th>\n",
              "      <td>2020-06-30</td>\n",
              "      <td>0-9</td>\n",
              "      <td>m</td>\n",
              "      <td>1154</td>\n",
              "    </tr>\n",
              "    <tr>\n",
              "      <th>1</th>\n",
              "      <td>2020-06-30</td>\n",
              "      <td>0-9</td>\n",
              "      <td>f</td>\n",
              "      <td>1035</td>\n",
              "    </tr>\n",
              "    <tr>\n",
              "      <th>2</th>\n",
              "      <td>2020-06-30</td>\n",
              "      <td>10-19</td>\n",
              "      <td>m</td>\n",
              "      <td>1954</td>\n",
              "    </tr>\n",
              "    <tr>\n",
              "      <th>3</th>\n",
              "      <td>2020-06-30</td>\n",
              "      <td>10-19</td>\n",
              "      <td>f</td>\n",
              "      <td>1949</td>\n",
              "    </tr>\n",
              "    <tr>\n",
              "      <th>4</th>\n",
              "      <td>2020-06-30</td>\n",
              "      <td>20-29</td>\n",
              "      <td>m</td>\n",
              "      <td>6204</td>\n",
              "    </tr>\n",
              "    <tr>\n",
              "      <th>...</th>\n",
              "      <td>...</td>\n",
              "      <td>...</td>\n",
              "      <td>...</td>\n",
              "      <td>...</td>\n",
              "    </tr>\n",
              "    <tr>\n",
              "      <th>15</th>\n",
              "      <td>2020-03-30</td>\n",
              "      <td>70-79</td>\n",
              "      <td>f</td>\n",
              "      <td>614</td>\n",
              "    </tr>\n",
              "    <tr>\n",
              "      <th>16</th>\n",
              "      <td>2020-03-30</td>\n",
              "      <td>80-89</td>\n",
              "      <td>m</td>\n",
              "      <td>7630</td>\n",
              "    </tr>\n",
              "    <tr>\n",
              "      <th>17</th>\n",
              "      <td>2020-03-30</td>\n",
              "      <td>80-89</td>\n",
              "      <td>f</td>\n",
              "      <td>650</td>\n",
              "    </tr>\n",
              "    <tr>\n",
              "      <th>18</th>\n",
              "      <td>2020-03-30</td>\n",
              "      <td>&gt;90</td>\n",
              "      <td>m</td>\n",
              "      <td>1160</td>\n",
              "    </tr>\n",
              "    <tr>\n",
              "      <th>19</th>\n",
              "      <td>2020-03-30</td>\n",
              "      <td>&gt;90</td>\n",
              "      <td>f</td>\n",
              "      <td>240</td>\n",
              "    </tr>\n",
              "  </tbody>\n",
              "</table>\n",
              "<p>300 rows × 4 columns</p>\n",
              "</div>"
            ],
            "text/plain": [
              "         Date    Age Sex  cases_new\n",
              "0  2020-06-30    0-9   m       1154\n",
              "1  2020-06-30    0-9   f       1035\n",
              "2  2020-06-30  10-19   m       1954\n",
              "3  2020-06-30  10-19   f       1949\n",
              "4  2020-06-30  20-29   m       6204\n",
              "..        ...    ...  ..        ...\n",
              "15 2020-03-30  70-79   f        614\n",
              "16 2020-03-30  80-89   m       7630\n",
              "17 2020-03-30  80-89   f        650\n",
              "18 2020-03-30    >90   m       1160\n",
              "19 2020-03-30    >90   f        240\n",
              "\n",
              "[300 rows x 4 columns]"
            ]
          },
          "metadata": {
            "tags": []
          },
          "execution_count": 49
        }
      ]
    },
    {
      "cell_type": "code",
      "metadata": {
        "id": "dRk_y-aALWIi",
        "colab_type": "code",
        "colab": {
          "base_uri": "https://localhost:8080/",
          "height": 139
        },
        "outputId": "a3318766-1fd6-403d-82ae-52e811411aec"
      },
      "source": [
        "from google.colab import drive\n",
        "drive.mount('/gdrive')\n",
        "%cd /gdrive"
      ],
      "execution_count": 50,
      "outputs": [
        {
          "output_type": "stream",
          "text": [
            "Go to this URL in a browser: https://accounts.google.com/o/oauth2/auth?client_id=947318989803-6bn6qk8qdgf4n4g3pfee6491hc0brc4i.apps.googleusercontent.com&redirect_uri=urn%3aietf%3awg%3aoauth%3a2.0%3aoob&response_type=code&scope=email%20https%3a%2f%2fwww.googleapis.com%2fauth%2fdocs.test%20https%3a%2f%2fwww.googleapis.com%2fauth%2fdrive%20https%3a%2f%2fwww.googleapis.com%2fauth%2fdrive.photos.readonly%20https%3a%2f%2fwww.googleapis.com%2fauth%2fpeopleapi.readonly\n",
            "\n",
            "Enter your authorization code:\n",
            "··········\n",
            "Mounted at /gdrive\n",
            "/gdrive\n"
          ],
          "name": "stdout"
        }
      ]
    },
    {
      "cell_type": "code",
      "metadata": {
        "id": "_hkH-SH8LXH1",
        "colab_type": "code",
        "colab": {
          "base_uri": "https://localhost:8080/",
          "height": 34
        },
        "outputId": "04911247-61f7-43b0-cd4c-f25d2d154eb3"
      },
      "source": [
        "path = '/gdrive/My Drive/italy_cases_by_age_sex.csv'\n",
        "with open(path, 'w') as f:\n",
        "  final.to_csv(f)\n",
        "\n",
        "print('Wrote', path)"
      ],
      "execution_count": 51,
      "outputs": [
        {
          "output_type": "stream",
          "text": [
            "Wrote /gdrive/My Drive/italy_cases_by_age_sex.csv\n"
          ],
          "name": "stdout"
        }
      ]
    },
    {
      "cell_type": "code",
      "metadata": {
        "id": "9_Y1rFqdNKRO",
        "colab_type": "code",
        "colab": {}
      },
      "source": [
        ""
      ],
      "execution_count": null,
      "outputs": []
    }
  ]
}