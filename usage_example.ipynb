{
 "cells": [
  {
   "cell_type": "markdown",
   "metadata": {
    "colab_type": "text",
    "id": "UR-WUWtFOD9-"
   },
   "source": [
    "# COVID Datasets\n",
    "\n",
    "This notebook provides usage examples for Covid data set loaders stored in a python repository.\n",
    "\n",
    "First step is to install the code."
   ]
  },
  {
   "cell_type": "code",
   "execution_count": 1,
   "metadata": {
    "colab": {
     "base_uri": "https://localhost:8080/",
     "height": 479
    },
    "colab_type": "code",
    "id": "LRb68DX0OD-A",
    "outputId": "42b33b2a-ddb3-42e3-ec40-6d145c2ee6c5"
   },
   "outputs": [
    {
     "name": "stdout",
     "output_type": "stream",
     "text": [
      "Collecting git+https://github.com/DELVE-covid19/covid19_datasets.git@cases_dataset\n",
      "  Cloning https://github.com/DELVE-covid19/covid19_datasets.git (to revision cases_dataset) to /tmp/pip-req-build-mu3lxurg\n",
      "  Running command git clone -q https://github.com/DELVE-covid19/covid19_datasets.git /tmp/pip-req-build-mu3lxurg\n",
      "  Running command git checkout -b cases_dataset --track origin/cases_dataset\n",
      "  Switched to a new branch 'cases_dataset'\n",
      "  Branch 'cases_dataset' set up to track remote branch 'cases_dataset' from 'origin'.\n",
      "Requirement already satisfied (use --upgrade to upgrade): covid19-datasets==0.1 from git+https://github.com/DELVE-covid19/covid19_datasets.git@cases_dataset in /home/andrei/.local/share/virtualenvs/covid-19-ERD70gzE/lib/python3.6/site-packages\n",
      "Requirement already satisfied: numpy in /home/andrei/.local/share/virtualenvs/covid-19-ERD70gzE/lib/python3.6/site-packages (from covid19-datasets==0.1) (1.18.1)\n",
      "Requirement already satisfied: pandas in /home/andrei/.local/share/virtualenvs/covid-19-ERD70gzE/lib/python3.6/site-packages (from covid19-datasets==0.1) (1.0.2)\n",
      "Requirement already satisfied: pandas-datareader in /home/andrei/.local/share/virtualenvs/covid-19-ERD70gzE/lib/python3.6/site-packages/pandas_datareader-0.8.1-py3.6.egg (from covid19-datasets==0.1) (0.8.1)\n",
      "Requirement already satisfied: xlrd>=1.0.0 in /home/andrei/.local/share/virtualenvs/covid-19-ERD70gzE/lib/python3.6/site-packages (from covid19-datasets==0.1) (1.2.0)\n",
      "Requirement already satisfied: pytz>=2017.2 in /home/andrei/.local/share/virtualenvs/covid-19-ERD70gzE/lib/python3.6/site-packages (from pandas->covid19-datasets==0.1) (2019.3)\n",
      "Requirement already satisfied: python-dateutil>=2.6.1 in /home/andrei/.local/share/virtualenvs/covid-19-ERD70gzE/lib/python3.6/site-packages (from pandas->covid19-datasets==0.1) (2.8.1)\n",
      "Requirement already satisfied: lxml in /home/andrei/.local/share/virtualenvs/covid-19-ERD70gzE/lib/python3.6/site-packages/lxml-4.5.0-py3.6-linux-x86_64.egg (from pandas-datareader->covid19-datasets==0.1) (4.5.0)\n",
      "Requirement already satisfied: requests>=2.3.0 in /home/andrei/.local/share/virtualenvs/covid-19-ERD70gzE/lib/python3.6/site-packages/requests-2.23.0-py3.6.egg (from pandas-datareader->covid19-datasets==0.1) (2.23.0)\n",
      "Requirement already satisfied: six>=1.5 in /home/andrei/.local/share/virtualenvs/covid-19-ERD70gzE/lib/python3.6/site-packages (from python-dateutil>=2.6.1->pandas->covid19-datasets==0.1) (1.14.0)\n",
      "Requirement already satisfied: certifi>=2017.4.17 in /home/andrei/.local/share/virtualenvs/covid-19-ERD70gzE/lib/python3.6/site-packages/certifi-2020.4.5.1-py3.6.egg (from requests>=2.3.0->pandas-datareader->covid19-datasets==0.1) (2020.4.5.1)\n",
      "Requirement already satisfied: chardet<4,>=3.0.2 in /home/andrei/.local/share/virtualenvs/covid-19-ERD70gzE/lib/python3.6/site-packages/chardet-3.0.4-py3.6.egg (from requests>=2.3.0->pandas-datareader->covid19-datasets==0.1) (3.0.4)\n",
      "Requirement already satisfied: idna<3,>=2.5 in /home/andrei/.local/share/virtualenvs/covid-19-ERD70gzE/lib/python3.6/site-packages/idna-2.9-py3.6.egg (from requests>=2.3.0->pandas-datareader->covid19-datasets==0.1) (2.9)\n",
      "Requirement already satisfied: urllib3!=1.25.0,!=1.25.1,<1.26,>=1.21.1 in /home/andrei/.local/share/virtualenvs/covid-19-ERD70gzE/lib/python3.6/site-packages/urllib3-1.25.9-py3.6.egg (from requests>=2.3.0->pandas-datareader->covid19-datasets==0.1) (1.25.9)\n",
      "Building wheels for collected packages: covid19-datasets\n",
      "  Building wheel for covid19-datasets (setup.py) ... \u001b[?25ldone\n",
      "\u001b[?25h  Created wheel for covid19-datasets: filename=covid19_datasets-0.1-py3-none-any.whl size=12866 sha256=44d8e158a4911c853676fc172f36a0072ce62c5c046c9925680d4df261a3e579\n",
      "  Stored in directory: /tmp/pip-ephem-wheel-cache-_xp_9iyz/wheels/56/d5/ea/43c62089d09bfe7ad6336f64eacbc07c3e14d19949aec932ac\n",
      "Successfully built covid19-datasets\n",
      "Note: you may need to restart the kernel to use updated packages.\n"
     ]
    }
   ],
   "source": [
    "%pip install git+https://github.com/DELVE-covid19/covid19_datasets.git@cases_dataset"
   ]
  },
  {
   "cell_type": "markdown",
   "metadata": {
    "colab_type": "text",
    "id": "VA76LykFOD-F"
   },
   "source": [
    "Now some library files for visualising the data. "
   ]
  },
  {
   "cell_type": "code",
   "execution_count": 2,
   "metadata": {
    "colab": {
     "base_uri": "https://localhost:8080/",
     "height": 71
    },
    "colab_type": "code",
    "id": "822EV-F_OD-G",
    "outputId": "e1ffb6df-02ae-42e0-8308-c15bb16decae"
   },
   "outputs": [],
   "source": [
    "import matplotlib.pyplot as plt\n",
    "import seaborn as sns"
   ]
  },
  {
   "cell_type": "markdown",
   "metadata": {
    "colab_type": "text",
    "id": "mJL_Q2PEOD-L"
   },
   "source": [
    "Just for info, we include some log messages in this usage notebook to show how the data sets are loading."
   ]
  },
  {
   "cell_type": "code",
   "execution_count": 3,
   "metadata": {
    "colab": {},
    "colab_type": "code",
    "id": "5efQ2Wf1OD-M"
   },
   "outputs": [],
   "source": [
    "# optional - see log messages about datasets loading\n",
    "\n",
    "import logging\n",
    "import sys\n",
    "logging.basicConfig(stream=sys.stdout, level=logging.INFO)"
   ]
  },
  {
   "cell_type": "markdown",
   "metadata": {
    "colab_type": "text",
    "id": "bVqHbc3JTf8w"
   },
   "source": [
    "# Combined Dataset\n",
    "Load the combined dataset, made up of data joined from multiple sources\n",
    "\n",
    "TODO(avishkar): Add some plots"
   ]
  },
  {
   "cell_type": "code",
   "execution_count": 4,
   "metadata": {
    "colab": {
     "base_uri": "https://localhost:8080/",
     "height": 190
    },
    "colab_type": "code",
    "id": "MX_VGfVFTt9B",
    "outputId": "1a798b25-d8cc-47c1-94e7-be748d374c40"
   },
   "outputs": [
    {
     "name": "stdout",
     "output_type": "stream",
     "text": [
      "INFO:covid19_datasets.oxford_government_policy:Loading dataset from https://ocgptweb.azurewebsites.net/CSVDownload\n"
     ]
    },
    {
     "name": "stderr",
     "output_type": "stream",
     "text": [
      "/home/andrei/.local/share/virtualenvs/covid-19-ERD70gzE/lib/python3.6/site-packages/pandas_datareader-0.8.1-py3.6.egg/pandas_datareader/compat/__init__.py:7: FutureWarning: pandas.util.testing is deprecated. Use the functions in the public API at pandas.testing instead.\n",
      "  from pandas.util.testing import assert_frame_equal\n"
     ]
    },
    {
     "name": "stdout",
     "output_type": "stream",
     "text": [
      "INFO:covid19_datasets.oxford_government_policy:Loaded\n",
      "INFO:covid19_datasets.mask_policies:Loading dataset from https://raw.githubusercontent.com/DELVE-covid19/covid19_datasets/master/data/mask_policy_dates.csv\n",
      "INFO:covid19_datasets.mask_policies:Loaded\n",
      "INFO:covid19_datasets.our_world_in_data:Loading dataset from https://covid.ourworldindata.org/data/owid-covid-data.csv\n",
      "INFO:covid19_datasets.our_world_in_data:Loaded\n",
      "INFO:covid19_datasets.our_world_in_data:Loading dataset from https://github.com/DELVE-covid19/covid19_datasets/raw/master/data/median-age.csv\n",
      "INFO:covid19_datasets.world_bank:Loading dataset\n"
     ]
    }
   ],
   "source": [
    "from covid19_datasets import Combined\n",
    "combined = Combined()"
   ]
  },
  {
   "cell_type": "code",
   "execution_count": 5,
   "metadata": {
    "colab": {
     "base_uri": "https://localhost:8080/",
     "height": 759
    },
    "colab_type": "code",
    "id": "QRanY7ksT56M",
    "outputId": "7f4d9151-87a2-4228-caff-7b1c2848d259"
   },
   "outputs": [
    {
     "data": {
      "text/html": [
       "<div>\n",
       "<style scoped>\n",
       "    .dataframe tbody tr th:only-of-type {\n",
       "        vertical-align: middle;\n",
       "    }\n",
       "\n",
       "    .dataframe tbody tr th {\n",
       "        vertical-align: top;\n",
       "    }\n",
       "\n",
       "    .dataframe thead th {\n",
       "        text-align: right;\n",
       "    }\n",
       "</style>\n",
       "<table border=\"1\" class=\"dataframe\">\n",
       "  <thead>\n",
       "    <tr style=\"text-align: right;\">\n",
       "      <th></th>\n",
       "      <th>CountryName</th>\n",
       "      <th>School closing</th>\n",
       "      <th>Workplace closing</th>\n",
       "      <th>Cancel public events</th>\n",
       "      <th>Close public transport</th>\n",
       "      <th>Public information campaigns</th>\n",
       "      <th>Restrictions on internal movement</th>\n",
       "      <th>International travel controls</th>\n",
       "      <th>Fiscal measures</th>\n",
       "      <th>Monetary measures</th>\n",
       "      <th>...</th>\n",
       "      <th>physicians (per 1000)</th>\n",
       "      <th>nurses (per 1000)</th>\n",
       "      <th>Smoking prevalence, total, ages 15+</th>\n",
       "      <th>Mortality rate, adult, female (per 1,000 female adults)</th>\n",
       "      <th>Mortality rate, adult, male (per 1,000 male adults)</th>\n",
       "      <th>Population Density</th>\n",
       "      <th>Population in Urban Agglomerations</th>\n",
       "      <th>Population Female</th>\n",
       "      <th>Population Male</th>\n",
       "      <th>Population</th>\n",
       "    </tr>\n",
       "    <tr>\n",
       "      <th>DATE</th>\n",
       "      <th></th>\n",
       "      <th></th>\n",
       "      <th></th>\n",
       "      <th></th>\n",
       "      <th></th>\n",
       "      <th></th>\n",
       "      <th></th>\n",
       "      <th></th>\n",
       "      <th></th>\n",
       "      <th></th>\n",
       "      <th></th>\n",
       "      <th></th>\n",
       "      <th></th>\n",
       "      <th></th>\n",
       "      <th></th>\n",
       "      <th></th>\n",
       "      <th></th>\n",
       "      <th></th>\n",
       "      <th></th>\n",
       "      <th></th>\n",
       "      <th></th>\n",
       "    </tr>\n",
       "  </thead>\n",
       "  <tbody>\n",
       "    <tr>\n",
       "      <th>2020-01-01</th>\n",
       "      <td>United Kingdom</td>\n",
       "      <td>0.0</td>\n",
       "      <td>0.0</td>\n",
       "      <td>0.0</td>\n",
       "      <td>0.0</td>\n",
       "      <td>0.0</td>\n",
       "      <td>0.0</td>\n",
       "      <td>0.0</td>\n",
       "      <td>0.000000e+00</td>\n",
       "      <td>0.75</td>\n",
       "      <td>...</td>\n",
       "      <td>2.8058</td>\n",
       "      <td>8.2878</td>\n",
       "      <td>22.3</td>\n",
       "      <td>55.36</td>\n",
       "      <td>86.107</td>\n",
       "      <td>274.827392</td>\n",
       "      <td>17831615.0</td>\n",
       "      <td>33652378.0</td>\n",
       "      <td>32807966.0</td>\n",
       "      <td>66460344.0</td>\n",
       "    </tr>\n",
       "    <tr>\n",
       "      <th>2020-01-02</th>\n",
       "      <td>United Kingdom</td>\n",
       "      <td>0.0</td>\n",
       "      <td>0.0</td>\n",
       "      <td>0.0</td>\n",
       "      <td>0.0</td>\n",
       "      <td>0.0</td>\n",
       "      <td>0.0</td>\n",
       "      <td>0.0</td>\n",
       "      <td>0.000000e+00</td>\n",
       "      <td>0.75</td>\n",
       "      <td>...</td>\n",
       "      <td>2.8058</td>\n",
       "      <td>8.2878</td>\n",
       "      <td>22.3</td>\n",
       "      <td>55.36</td>\n",
       "      <td>86.107</td>\n",
       "      <td>274.827392</td>\n",
       "      <td>17831615.0</td>\n",
       "      <td>33652378.0</td>\n",
       "      <td>32807966.0</td>\n",
       "      <td>66460344.0</td>\n",
       "    </tr>\n",
       "    <tr>\n",
       "      <th>2020-01-03</th>\n",
       "      <td>United Kingdom</td>\n",
       "      <td>0.0</td>\n",
       "      <td>0.0</td>\n",
       "      <td>0.0</td>\n",
       "      <td>0.0</td>\n",
       "      <td>0.0</td>\n",
       "      <td>0.0</td>\n",
       "      <td>0.0</td>\n",
       "      <td>0.000000e+00</td>\n",
       "      <td>0.75</td>\n",
       "      <td>...</td>\n",
       "      <td>2.8058</td>\n",
       "      <td>8.2878</td>\n",
       "      <td>22.3</td>\n",
       "      <td>55.36</td>\n",
       "      <td>86.107</td>\n",
       "      <td>274.827392</td>\n",
       "      <td>17831615.0</td>\n",
       "      <td>33652378.0</td>\n",
       "      <td>32807966.0</td>\n",
       "      <td>66460344.0</td>\n",
       "    </tr>\n",
       "    <tr>\n",
       "      <th>2020-01-04</th>\n",
       "      <td>United Kingdom</td>\n",
       "      <td>0.0</td>\n",
       "      <td>0.0</td>\n",
       "      <td>0.0</td>\n",
       "      <td>0.0</td>\n",
       "      <td>0.0</td>\n",
       "      <td>0.0</td>\n",
       "      <td>0.0</td>\n",
       "      <td>0.000000e+00</td>\n",
       "      <td>0.75</td>\n",
       "      <td>...</td>\n",
       "      <td>2.8058</td>\n",
       "      <td>8.2878</td>\n",
       "      <td>22.3</td>\n",
       "      <td>55.36</td>\n",
       "      <td>86.107</td>\n",
       "      <td>274.827392</td>\n",
       "      <td>17831615.0</td>\n",
       "      <td>33652378.0</td>\n",
       "      <td>32807966.0</td>\n",
       "      <td>66460344.0</td>\n",
       "    </tr>\n",
       "    <tr>\n",
       "      <th>2020-01-05</th>\n",
       "      <td>United Kingdom</td>\n",
       "      <td>0.0</td>\n",
       "      <td>0.0</td>\n",
       "      <td>0.0</td>\n",
       "      <td>0.0</td>\n",
       "      <td>0.0</td>\n",
       "      <td>0.0</td>\n",
       "      <td>0.0</td>\n",
       "      <td>0.000000e+00</td>\n",
       "      <td>0.75</td>\n",
       "      <td>...</td>\n",
       "      <td>2.8058</td>\n",
       "      <td>8.2878</td>\n",
       "      <td>22.3</td>\n",
       "      <td>55.36</td>\n",
       "      <td>86.107</td>\n",
       "      <td>274.827392</td>\n",
       "      <td>17831615.0</td>\n",
       "      <td>33652378.0</td>\n",
       "      <td>32807966.0</td>\n",
       "      <td>66460344.0</td>\n",
       "    </tr>\n",
       "    <tr>\n",
       "      <th>...</th>\n",
       "      <td>...</td>\n",
       "      <td>...</td>\n",
       "      <td>...</td>\n",
       "      <td>...</td>\n",
       "      <td>...</td>\n",
       "      <td>...</td>\n",
       "      <td>...</td>\n",
       "      <td>...</td>\n",
       "      <td>...</td>\n",
       "      <td>...</td>\n",
       "      <td>...</td>\n",
       "      <td>...</td>\n",
       "      <td>...</td>\n",
       "      <td>...</td>\n",
       "      <td>...</td>\n",
       "      <td>...</td>\n",
       "      <td>...</td>\n",
       "      <td>...</td>\n",
       "      <td>...</td>\n",
       "      <td>...</td>\n",
       "      <td>...</td>\n",
       "    </tr>\n",
       "    <tr>\n",
       "      <th>2020-04-20</th>\n",
       "      <td>United Kingdom</td>\n",
       "      <td>2.0</td>\n",
       "      <td>2.0</td>\n",
       "      <td>2.0</td>\n",
       "      <td>0.0</td>\n",
       "      <td>1.0</td>\n",
       "      <td>2.0</td>\n",
       "      <td>0.0</td>\n",
       "      <td>1.550000e+09</td>\n",
       "      <td>0.10</td>\n",
       "      <td>...</td>\n",
       "      <td>2.8058</td>\n",
       "      <td>8.2878</td>\n",
       "      <td>22.3</td>\n",
       "      <td>55.36</td>\n",
       "      <td>86.107</td>\n",
       "      <td>274.827392</td>\n",
       "      <td>17831615.0</td>\n",
       "      <td>33652378.0</td>\n",
       "      <td>32807966.0</td>\n",
       "      <td>66460344.0</td>\n",
       "    </tr>\n",
       "    <tr>\n",
       "      <th>2020-04-21</th>\n",
       "      <td>United Kingdom</td>\n",
       "      <td>2.0</td>\n",
       "      <td>2.0</td>\n",
       "      <td>2.0</td>\n",
       "      <td>0.0</td>\n",
       "      <td>1.0</td>\n",
       "      <td>2.0</td>\n",
       "      <td>0.0</td>\n",
       "      <td>0.000000e+00</td>\n",
       "      <td>0.10</td>\n",
       "      <td>...</td>\n",
       "      <td>2.8058</td>\n",
       "      <td>8.2878</td>\n",
       "      <td>22.3</td>\n",
       "      <td>55.36</td>\n",
       "      <td>86.107</td>\n",
       "      <td>274.827392</td>\n",
       "      <td>17831615.0</td>\n",
       "      <td>33652378.0</td>\n",
       "      <td>32807966.0</td>\n",
       "      <td>66460344.0</td>\n",
       "    </tr>\n",
       "    <tr>\n",
       "      <th>2020-04-22</th>\n",
       "      <td>United Kingdom</td>\n",
       "      <td>2.0</td>\n",
       "      <td>2.0</td>\n",
       "      <td>2.0</td>\n",
       "      <td>0.0</td>\n",
       "      <td>1.0</td>\n",
       "      <td>2.0</td>\n",
       "      <td>0.0</td>\n",
       "      <td>0.000000e+00</td>\n",
       "      <td>0.10</td>\n",
       "      <td>...</td>\n",
       "      <td>2.8058</td>\n",
       "      <td>8.2878</td>\n",
       "      <td>22.3</td>\n",
       "      <td>55.36</td>\n",
       "      <td>86.107</td>\n",
       "      <td>274.827392</td>\n",
       "      <td>17831615.0</td>\n",
       "      <td>33652378.0</td>\n",
       "      <td>32807966.0</td>\n",
       "      <td>66460344.0</td>\n",
       "    </tr>\n",
       "    <tr>\n",
       "      <th>2020-04-23</th>\n",
       "      <td>United Kingdom</td>\n",
       "      <td>2.0</td>\n",
       "      <td>2.0</td>\n",
       "      <td>2.0</td>\n",
       "      <td>0.0</td>\n",
       "      <td>1.0</td>\n",
       "      <td>2.0</td>\n",
       "      <td>0.0</td>\n",
       "      <td>0.000000e+00</td>\n",
       "      <td>0.10</td>\n",
       "      <td>...</td>\n",
       "      <td>2.8058</td>\n",
       "      <td>8.2878</td>\n",
       "      <td>22.3</td>\n",
       "      <td>55.36</td>\n",
       "      <td>86.107</td>\n",
       "      <td>274.827392</td>\n",
       "      <td>17831615.0</td>\n",
       "      <td>33652378.0</td>\n",
       "      <td>32807966.0</td>\n",
       "      <td>66460344.0</td>\n",
       "    </tr>\n",
       "    <tr>\n",
       "      <th>2020-04-24</th>\n",
       "      <td>United Kingdom</td>\n",
       "      <td>2.0</td>\n",
       "      <td>2.0</td>\n",
       "      <td>2.0</td>\n",
       "      <td>0.0</td>\n",
       "      <td>1.0</td>\n",
       "      <td>2.0</td>\n",
       "      <td>0.0</td>\n",
       "      <td>0.000000e+00</td>\n",
       "      <td>0.10</td>\n",
       "      <td>...</td>\n",
       "      <td>2.8058</td>\n",
       "      <td>8.2878</td>\n",
       "      <td>22.3</td>\n",
       "      <td>55.36</td>\n",
       "      <td>86.107</td>\n",
       "      <td>274.827392</td>\n",
       "      <td>17831615.0</td>\n",
       "      <td>33652378.0</td>\n",
       "      <td>32807966.0</td>\n",
       "      <td>66460344.0</td>\n",
       "    </tr>\n",
       "  </tbody>\n",
       "</table>\n",
       "<p>115 rows × 41 columns</p>\n",
       "</div>"
      ],
      "text/plain": [
       "               CountryName  School closing  Workplace closing  \\\n",
       "DATE                                                            \n",
       "2020-01-01  United Kingdom             0.0                0.0   \n",
       "2020-01-02  United Kingdom             0.0                0.0   \n",
       "2020-01-03  United Kingdom             0.0                0.0   \n",
       "2020-01-04  United Kingdom             0.0                0.0   \n",
       "2020-01-05  United Kingdom             0.0                0.0   \n",
       "...                    ...             ...                ...   \n",
       "2020-04-20  United Kingdom             2.0                2.0   \n",
       "2020-04-21  United Kingdom             2.0                2.0   \n",
       "2020-04-22  United Kingdom             2.0                2.0   \n",
       "2020-04-23  United Kingdom             2.0                2.0   \n",
       "2020-04-24  United Kingdom             2.0                2.0   \n",
       "\n",
       "            Cancel public events  Close public transport  \\\n",
       "DATE                                                       \n",
       "2020-01-01                   0.0                     0.0   \n",
       "2020-01-02                   0.0                     0.0   \n",
       "2020-01-03                   0.0                     0.0   \n",
       "2020-01-04                   0.0                     0.0   \n",
       "2020-01-05                   0.0                     0.0   \n",
       "...                          ...                     ...   \n",
       "2020-04-20                   2.0                     0.0   \n",
       "2020-04-21                   2.0                     0.0   \n",
       "2020-04-22                   2.0                     0.0   \n",
       "2020-04-23                   2.0                     0.0   \n",
       "2020-04-24                   2.0                     0.0   \n",
       "\n",
       "            Public information campaigns  Restrictions on internal movement  \\\n",
       "DATE                                                                          \n",
       "2020-01-01                           0.0                                0.0   \n",
       "2020-01-02                           0.0                                0.0   \n",
       "2020-01-03                           0.0                                0.0   \n",
       "2020-01-04                           0.0                                0.0   \n",
       "2020-01-05                           0.0                                0.0   \n",
       "...                                  ...                                ...   \n",
       "2020-04-20                           1.0                                2.0   \n",
       "2020-04-21                           1.0                                2.0   \n",
       "2020-04-22                           1.0                                2.0   \n",
       "2020-04-23                           1.0                                2.0   \n",
       "2020-04-24                           1.0                                2.0   \n",
       "\n",
       "            International travel controls  Fiscal measures  Monetary measures  \\\n",
       "DATE                                                                            \n",
       "2020-01-01                            0.0     0.000000e+00               0.75   \n",
       "2020-01-02                            0.0     0.000000e+00               0.75   \n",
       "2020-01-03                            0.0     0.000000e+00               0.75   \n",
       "2020-01-04                            0.0     0.000000e+00               0.75   \n",
       "2020-01-05                            0.0     0.000000e+00               0.75   \n",
       "...                                   ...              ...                ...   \n",
       "2020-04-20                            0.0     1.550000e+09               0.10   \n",
       "2020-04-21                            0.0     0.000000e+00               0.10   \n",
       "2020-04-22                            0.0     0.000000e+00               0.10   \n",
       "2020-04-23                            0.0     0.000000e+00               0.10   \n",
       "2020-04-24                            0.0     0.000000e+00               0.10   \n",
       "\n",
       "            ...  physicians (per 1000)  nurses (per 1000)  \\\n",
       "DATE        ...                                             \n",
       "2020-01-01  ...                 2.8058             8.2878   \n",
       "2020-01-02  ...                 2.8058             8.2878   \n",
       "2020-01-03  ...                 2.8058             8.2878   \n",
       "2020-01-04  ...                 2.8058             8.2878   \n",
       "2020-01-05  ...                 2.8058             8.2878   \n",
       "...         ...                    ...                ...   \n",
       "2020-04-20  ...                 2.8058             8.2878   \n",
       "2020-04-21  ...                 2.8058             8.2878   \n",
       "2020-04-22  ...                 2.8058             8.2878   \n",
       "2020-04-23  ...                 2.8058             8.2878   \n",
       "2020-04-24  ...                 2.8058             8.2878   \n",
       "\n",
       "            Smoking prevalence, total, ages 15+  \\\n",
       "DATE                                              \n",
       "2020-01-01                                 22.3   \n",
       "2020-01-02                                 22.3   \n",
       "2020-01-03                                 22.3   \n",
       "2020-01-04                                 22.3   \n",
       "2020-01-05                                 22.3   \n",
       "...                                         ...   \n",
       "2020-04-20                                 22.3   \n",
       "2020-04-21                                 22.3   \n",
       "2020-04-22                                 22.3   \n",
       "2020-04-23                                 22.3   \n",
       "2020-04-24                                 22.3   \n",
       "\n",
       "            Mortality rate, adult, female (per 1,000 female adults)  \\\n",
       "DATE                                                                  \n",
       "2020-01-01                                              55.36         \n",
       "2020-01-02                                              55.36         \n",
       "2020-01-03                                              55.36         \n",
       "2020-01-04                                              55.36         \n",
       "2020-01-05                                              55.36         \n",
       "...                                                       ...         \n",
       "2020-04-20                                              55.36         \n",
       "2020-04-21                                              55.36         \n",
       "2020-04-22                                              55.36         \n",
       "2020-04-23                                              55.36         \n",
       "2020-04-24                                              55.36         \n",
       "\n",
       "            Mortality rate, adult, male (per 1,000 male adults)  \\\n",
       "DATE                                                              \n",
       "2020-01-01                                             86.107     \n",
       "2020-01-02                                             86.107     \n",
       "2020-01-03                                             86.107     \n",
       "2020-01-04                                             86.107     \n",
       "2020-01-05                                             86.107     \n",
       "...                                                       ...     \n",
       "2020-04-20                                             86.107     \n",
       "2020-04-21                                             86.107     \n",
       "2020-04-22                                             86.107     \n",
       "2020-04-23                                             86.107     \n",
       "2020-04-24                                             86.107     \n",
       "\n",
       "            Population Density  Population in Urban Agglomerations  \\\n",
       "DATE                                                                 \n",
       "2020-01-01          274.827392                          17831615.0   \n",
       "2020-01-02          274.827392                          17831615.0   \n",
       "2020-01-03          274.827392                          17831615.0   \n",
       "2020-01-04          274.827392                          17831615.0   \n",
       "2020-01-05          274.827392                          17831615.0   \n",
       "...                        ...                                 ...   \n",
       "2020-04-20          274.827392                          17831615.0   \n",
       "2020-04-21          274.827392                          17831615.0   \n",
       "2020-04-22          274.827392                          17831615.0   \n",
       "2020-04-23          274.827392                          17831615.0   \n",
       "2020-04-24          274.827392                          17831615.0   \n",
       "\n",
       "            Population Female  Population Male  Population  \n",
       "DATE                                                        \n",
       "2020-01-01         33652378.0       32807966.0  66460344.0  \n",
       "2020-01-02         33652378.0       32807966.0  66460344.0  \n",
       "2020-01-03         33652378.0       32807966.0  66460344.0  \n",
       "2020-01-04         33652378.0       32807966.0  66460344.0  \n",
       "2020-01-05         33652378.0       32807966.0  66460344.0  \n",
       "...                       ...              ...         ...  \n",
       "2020-04-20         33652378.0       32807966.0  66460344.0  \n",
       "2020-04-21         33652378.0       32807966.0  66460344.0  \n",
       "2020-04-22         33652378.0       32807966.0  66460344.0  \n",
       "2020-04-23         33652378.0       32807966.0  66460344.0  \n",
       "2020-04-24         33652378.0       32807966.0  66460344.0  \n",
       "\n",
       "[115 rows x 41 columns]"
      ]
     },
     "execution_count": 5,
     "metadata": {},
     "output_type": "execute_result"
    }
   ],
   "source": [
    "#@title View UK Data\n",
    "combined.get_data().loc['GBR']"
   ]
  },
  {
   "cell_type": "markdown",
   "metadata": {
    "colab_type": "text",
    "id": "8xQNU1VSThYh"
   },
   "source": [
    "# Underlying Source Datasets\n",
    "You can also access the individual source datasets, some of which may not be in the combined dataset yet."
   ]
  },
  {
   "cell_type": "markdown",
   "metadata": {
    "colab_type": "text",
    "id": "oFqajvvlOD-R"
   },
   "source": [
    "### Oxford Government Policy Tracker\n",
    "\n",
    "The Oxford Government policy tracker available [here](https://www.bsg.ox.ac.uk/research/research-projects/coronavirus-government-response-tracker) allows different government responses to Covid19 be loaded in. It can be loaded from the `covid19_datasets` as follows."
   ]
  },
  {
   "cell_type": "code",
   "execution_count": 6,
   "metadata": {
    "colab": {},
    "colab_type": "code",
    "id": "Lol9vkxNOD-R",
    "scrolled": true
   },
   "outputs": [],
   "source": [
    "from covid19_datasets import OxfordGovernmentPolicyDataset"
   ]
  },
  {
   "cell_type": "markdown",
   "metadata": {
    "colab_type": "text",
    "id": "PH25Fe9hOD-W"
   },
   "source": [
    "You can create an instance of the data set by constructing a data set object."
   ]
  },
  {
   "cell_type": "code",
   "execution_count": 7,
   "metadata": {
    "colab": {
     "base_uri": "https://localhost:8080/",
     "height": 51
    },
    "colab_type": "code",
    "id": "UPluw8dLOD-X",
    "outputId": "733da650-caaf-4175-da27-2af1c46e6f2a"
   },
   "outputs": [],
   "source": [
    "ogp = OxfordGovernmentPolicyDataset()"
   ]
  },
  {
   "cell_type": "markdown",
   "metadata": {
    "colab_type": "text",
    "id": "Rz1aaBqCOD-b"
   },
   "source": [
    "As an example, we'll look at policy information from South Africa. "
   ]
  },
  {
   "cell_type": "code",
   "execution_count": 8,
   "metadata": {
    "colab": {},
    "colab_type": "code",
    "id": "A7hlNxk8OD-c"
   },
   "outputs": [],
   "source": [
    "country = 'South Africa'"
   ]
  },
  {
   "cell_type": "markdown",
   "metadata": {
    "colab_type": "text",
    "id": "mHNK3NFnOD-i"
   },
   "source": [
    "To share the policies, we'll use `matplotlib` to plot when different policies occured and compare it with epidemic dynamics"
   ]
  },
  {
   "cell_type": "code",
   "execution_count": 9,
   "metadata": {
    "colab": {
     "base_uri": "https://localhost:8080/",
     "height": 324
    },
    "colab_type": "code",
    "id": "j7Bbi7f3OD-j",
    "outputId": "b19614eb-58b5-421b-f7c5-cd3488ba1961"
   },
   "outputs": [
    {
     "data": {
      "image/png": "[encoded data removed]",
      "text/plain": [
       "<Figure size 1728x432 with 1 Axes>"
      ]
     },
     "metadata": {
      "needs_background": "light"
     },
     "output_type": "display_data"
    }
   ],
   "source": [
    "fig, ax = plt.subplots(figsize=(24, 6))\n",
    "ogp.get_country_data(country).set_index('DATE').ConfirmedCases.plot(ax=ax)\n",
    "\n",
    "policy_changes = ogp.get_country_policy_changes(country)\n",
    "\n",
    "for c in policy_changes.columns:\n",
    "    policy = policy_changes.loc[:, c]\n",
    "    policy = policy[policy]\n",
    "    if policy.any():\n",
    "        for d in policy.index:\n",
    "            ax.axvline(d, color='k', ls='--')"
   ]
  },
  {
   "cell_type": "markdown",
   "metadata": {
    "colab_type": "text",
    "id": "sytG1h4tOD-m"
   },
   "source": [
    "We can also cycle through the policy changes to print when different changes were made."
   ]
  },
  {
   "cell_type": "code",
   "execution_count": 10,
   "metadata": {
    "colab": {
     "base_uri": "https://localhost:8080/",
     "height": 391
    },
    "colab_type": "code",
    "id": "aRdxLYphOD-n",
    "outputId": "b60f4647-d942-4537-e02e-e8c49b5d7a5b"
   },
   "outputs": [
    {
     "name": "stdout",
     "output_type": "stream",
     "text": [
      "Policy School closing changed on 2020-03-18 00:00:00\n",
      "Policy Workplace closing changed on 2020-03-15 00:00:00\n",
      "Policy Workplace closing changed on 2020-03-18 00:00:00\n",
      "Policy Cancel public events changed on 2020-03-15 00:00:00\n",
      "Policy Close public transport changed on 2020-03-18 00:00:00\n",
      "Policy Public information campaigns changed on 2020-03-07 00:00:00\n",
      "Policy Restrictions on internal movement changed on 2020-03-15 00:00:00\n",
      "Policy Restrictions on internal movement changed on 2020-03-18 00:00:00\n",
      "Policy International travel controls changed on 2020-01-23 00:00:00\n",
      "Policy International travel controls changed on 2020-03-17 00:00:00\n",
      "Policy Fiscal measures changed on 2020-03-24 00:00:00\n",
      "Policy Fiscal measures changed on 2020-03-25 00:00:00\n",
      "Policy Fiscal measures changed on 2020-03-30 00:00:00\n",
      "Policy Monetary measures changed on 2020-02-29 00:00:00\n",
      "Policy Monetary measures changed on 2020-03-07 00:00:00\n",
      "Policy Monetary measures changed on 2020-03-20 00:00:00\n",
      "Policy Monetary measures changed on 2020-04-15 00:00:00\n",
      "Policy Emergency investment in health care changed on 2020-03-24 00:00:00\n",
      "Policy Emergency investment in health care changed on 2020-03-25 00:00:00\n",
      "Policy Testing framework changed on 2020-03-07 00:00:00\n",
      "Policy Testing framework changed on 2020-03-28 00:00:00\n",
      "Policy Contact tracing changed on 2020-03-07 00:00:00\n"
     ]
    }
   ],
   "source": [
    "for c in policy_changes.columns:\n",
    "    policy = policy_changes.loc[:, c]\n",
    "    policy = policy[policy]\n",
    "    if policy.any():\n",
    "        for d in policy.index:\n",
    "            print(f'Policy {c} changed on {d}')"
   ]
  },
  {
   "cell_type": "markdown",
   "metadata": {
    "colab_type": "text",
    "id": "_DU-Ef0mOD-r"
   },
   "source": [
    "### World Bank Data\n",
    "\n",
    "The world bank provides global development data for individual countries and bigger regions,. Available is data on population, economy, education, etc. More info at https://data.worldbank.org/."
   ]
  },
  {
   "cell_type": "code",
   "execution_count": 11,
   "metadata": {
    "colab": {},
    "colab_type": "code",
    "id": "5FNfUYpcOD-r"
   },
   "outputs": [],
   "source": [
    "from covid19_datasets import WorldBankDataBank, AGGREGATES"
   ]
  },
  {
   "cell_type": "code",
   "execution_count": 12,
   "metadata": {
    "colab": {
     "base_uri": "https://localhost:8080/",
     "height": 34
    },
    "colab_type": "code",
    "id": "7pDidC6TOD-v",
    "outputId": "f0f16ad0-e294-4016-a13f-0844e885dadb"
   },
   "outputs": [],
   "source": [
    "wbdb = WorldBankDataBank()"
   ]
  },
  {
   "cell_type": "markdown",
   "metadata": {
    "colab_type": "text",
    "id": "Sj8kivH1OD-z"
   },
   "source": [
    "Here we plot population and population density for 20 most populated countries in the world, using matplotlib. Notice how AGGREGATES that represent world's regions must be dropped from the dataset, to leave only individual countries data."
   ]
  },
  {
   "cell_type": "code",
   "execution_count": 13,
   "metadata": {
    "colab": {
     "base_uri": "https://localhost:8080/",
     "height": 643
    },
    "colab_type": "code",
    "id": "BVqP4dgoOD-0",
    "outputId": "2bafd962-2591-47b3-d22a-ceb6fdbf03d7"
   },
   "outputs": [
    {
     "data": {
      "image/png": "[encoded data removed]",
      "text/plain": [
       "<Figure size 1440x720 with 2 Axes>"
      ]
     },
     "metadata": {
      "needs_background": "light"
     },
     "output_type": "display_data"
    }
   ],
   "source": [
    "df = wbdb.get_data().set_index('country').drop(AGGREGATES).nlargest(20, \"Population\")\n",
    "\n",
    "_, ax = plt.subplots(figsize=(20, 10))\n",
    "ax2 = ax.twinx() # Create another axes that shares the same x-axis as ax.\n",
    "\n",
    "df[\"Population\"].plot(kind='bar', color='blue', ax=ax, position=1, width=0.4)\n",
    "df[\"Population Density\"].plot(kind='bar', color='orange', ax=ax2, position=0, width=0.4)\n",
    "\n",
    "ax.set_ylabel('Population')\n",
    "ax2.set_ylabel('Population Density')\n",
    "\n",
    "plt.show()"
   ]
  },
  {
   "cell_type": "markdown",
   "metadata": {
    "colab_type": "text",
    "id": "QxPMp3kZOD-6"
   },
   "source": [
    "### YouGov Behavioural Tracker\n",
    "\n",
    "YouGov's behavioural tracker conducts surveys in more than 30 countries to understand how COVID-19 and governmental response to it affects human behavior. More info can be found here: https://yougov.co.uk/topics/international/articles-reports/2020/03/17/YouGov-international-COVID-19-tracker. The raw data can be seen in YouGov COVID-19 tracker [github page](https://github.com/YouGov-Data/covid-19-tracker/tree/master/data)."
   ]
  },
  {
   "cell_type": "code",
   "execution_count": 14,
   "metadata": {
    "colab": {},
    "colab_type": "code",
    "id": "8TURlqeVOD-7"
   },
   "outputs": [],
   "source": [
    "from covid19_datasets import YouGovBehaviouralTracker"
   ]
  },
  {
   "cell_type": "code",
   "execution_count": 15,
   "metadata": {
    "colab": {
     "base_uri": "https://localhost:8080/",
     "height": 68
    },
    "colab_type": "code",
    "id": "aF9TTJVzOD--",
    "outputId": "5329ebfa-c1ed-4667-c5a2-f2b43daf59a0"
   },
   "outputs": [
    {
     "name": "stdout",
     "output_type": "stream",
     "text": [
      "INFO:covid19_datasets.yougov_behavioural_tracker:Loading dataset\n",
      "ERROR:covid19_datasets.yougov_behavioural_tracker:ERROR WITH finland\n",
      "INFO:covid19_datasets.yougov_behavioural_tracker:Loaded\n"
     ]
    }
   ],
   "source": [
    "ygbt = YouGovBehaviouralTracker()"
   ]
  },
  {
   "cell_type": "markdown",
   "metadata": {
    "colab_type": "text",
    "id": "jIJxFF5mOD_B"
   },
   "source": [
    "Here we plot information on mask usage statistics."
   ]
  },
  {
   "cell_type": "code",
   "execution_count": 16,
   "metadata": {
    "colab": {
     "base_uri": "https://localhost:8080/",
     "height": 494
    },
    "colab_type": "code",
    "id": "Iay9UC1dOD_C",
    "outputId": "8466a621-c331-4c1c-a962-4befb0774b03"
   },
   "outputs": [
    {
     "data": {
      "image/png": "[encoded data removed]",
      "text/plain": [
       "<Figure size 1728x576 with 1 Axes>"
      ]
     },
     "metadata": {
      "needs_background": "light"
     },
     "output_type": "display_data"
    }
   ],
   "source": [
    "fig, ax = plt.subplots(figsize=(24, 8))\n",
    "mask_question = 'i12_health_1'\n",
    "counts = ygbt.data[['country', mask_question, 'RecordNo']].groupby(['country', mask_question]).count().unstack()\n",
    "normalised_counts = counts.div(counts.sum(axis=1), axis=0)\n",
    "normalised_counts['RecordNo'].plot(kind='bar', stacked=True, ax=ax)\n",
    "plt.title('Proportion of mask usage by country');"
   ]
  },
  {
   "cell_type": "markdown",
   "metadata": {
    "colab_type": "text",
    "id": "eIcOW3N8OD_G"
   },
   "source": [
    "### ACAPS Government Measures\n",
    "\n",
    "The ACAPS #COVID19 Government Measures Dataset puts together all the measures implemented by governments worldwide in response to the Coronavirus pandemic. Data collection includes secondary data review."
   ]
  },
  {
   "cell_type": "code",
   "execution_count": 17,
   "metadata": {
    "colab": {},
    "colab_type": "code",
    "id": "dY_Z7rBXOD_G"
   },
   "outputs": [],
   "source": [
    "from covid19_datasets import AcapsGovernmentMeasures"
   ]
  },
  {
   "cell_type": "code",
   "execution_count": 18,
   "metadata": {
    "colab": {
     "base_uri": "https://localhost:8080/",
     "height": 71
    },
    "colab_type": "code",
    "id": "K_sf431gOD_K",
    "outputId": "dea4a9e7-8770-4af8-f980-37da15be7b3b"
   },
   "outputs": [
    {
     "name": "stdout",
     "output_type": "stream",
     "text": [
      "INFO:covid19_datasets.acaps_government_measures:Loading dataset from https://www.acaps.org/sites/acaps/files/resources/files/20200426_acaps_-_covid-19_goverment_measures_dataset_v10.xlsx\n",
      "INFO:covid19_datasets.acaps_government_measures:No report on 2020-04-26 23:42:16.566374\n",
      "INFO:covid19_datasets.acaps_government_measures:Loading dataset from https://www.acaps.org/sites/acaps/files/resources/files/20200425_acaps_-_covid-19_goverment_measures_dataset_v10.xlsx\n",
      "INFO:covid19_datasets.acaps_government_measures:No report on 2020-04-25 23:42:16.566374\n",
      "INFO:covid19_datasets.acaps_government_measures:Loading dataset from https://www.acaps.org/sites/acaps/files/resources/files/20200424_acaps_-_covid-19_goverment_measures_dataset_v10.xlsx\n",
      "INFO:covid19_datasets.acaps_government_measures:No report on 2020-04-24 23:42:16.566374\n",
      "INFO:covid19_datasets.acaps_government_measures:Loading dataset from https://www.acaps.org/sites/acaps/files/resources/files/20200419_acaps_-_covid-19_goverment_measures_dataset_v10.xlsx\n",
      "INFO:covid19_datasets.acaps_government_measures:No report on 2020-04-19 23:42:16.566374\n",
      "INFO:covid19_datasets.acaps_government_measures:Loading dataset from https://www.acaps.org/sites/acaps/files/resources/files/20200423_acaps_-_covid-19_goverment_measures_dataset_v10.xlsx\n",
      "INFO:covid19_datasets.acaps_government_measures:Loaded\n"
     ]
    }
   ],
   "source": [
    "agm = AcapsGovernmentMeasures()"
   ]
  },
  {
   "cell_type": "markdown",
   "metadata": {
    "colab_type": "text",
    "id": "xEJ0JAZQOD_N"
   },
   "source": [
    "We can see all categories of interventions, and all individual measures"
   ]
  },
  {
   "cell_type": "code",
   "execution_count": 19,
   "metadata": {
    "colab": {
     "base_uri": "https://localhost:8080/",
     "height": 833
    },
    "colab_type": "code",
    "id": "cr-W-LkEOD_O",
    "outputId": "d17a844b-de9f-41e4-c157-be99eb54d9c9",
    "scrolled": true
   },
   "outputs": [
    {
     "name": "stdout",
     "output_type": "stream",
     "text": [
      "Intervention categories: \n",
      "  * Public health measures\n",
      "  * Governance and socio-economic measures\n",
      "  * Social distancing\n",
      "  * Movement restrictions\n",
      "  * Lockdown\n",
      "  * Humanitarian exemption\n",
      "\n",
      "Individual measures: \n",
      "  * Health screenings in airports and border crossings\n",
      "  * Introduction of isolation and quarantine policies\n",
      "  * Awareness campaigns\n",
      "  * Emergency administrative structures activated or established\n",
      "  * Limit public gatherings\n",
      "  * Border closure \n",
      "  * Schools closure \n",
      "  * Strengthening the public health system\n",
      "  * Limit product imports/exports\n",
      "  * Border checks \n",
      "  * International flights suspension\n",
      "  * Surveillance and monitoring\n",
      "  * Other public health measures enforced\n",
      "  * Domestic travel restrictions\n",
      "  * State of emergency declared\n",
      "  * General recommendations\n",
      "  * Partial lockdown\n",
      "  * Checkpoints within the country\n",
      "  * Economic measures\n",
      "  * Curfews\n",
      "  * Changes in prison-related policies\n",
      "  * Public services closure \n",
      "  * Military deployment\n",
      "  * Full lockdown\n",
      "  * Visa restrictions\n",
      "  * Lockdown of refugee/idp camps or other minorities\n",
      "  * Additional health/documents requirements upon arrival\n",
      "  * Requirement to wear protective gear in public\n",
      "  * Amendments to funeral and burial regulations\n",
      "  * Testing policy\n",
      "  * Psychological assistance and medical social work\n",
      "  * Mass population testing\n",
      "  * strengthening the public health system\n",
      "  * testing policy\n",
      "  * limit public gatherings\n",
      "  * Humanitarian exemptions\n",
      "  * Complete border closure\n",
      "  * curfews\n",
      "  * Obligatory medical tests not related to COVID-19\n"
     ]
    }
   ],
   "source": [
    "print(\"Intervention categories: \\n  * \" + '\\n  * '.join(agm.get_intervention_categories()))\n",
    "print()\n",
    "print(\"Individual measures: \\n  * \" + '\\n  * '.join(agm.get_measures()))"
   ]
  },
  {
   "cell_type": "markdown",
   "metadata": {
    "colab_type": "text",
    "id": "yj5IipOoOD_R"
   },
   "source": [
    "As a simple usage example, we can plot the number of countries that has introduced some form of lockdown vs the number of countries that didn't."
   ]
  },
  {
   "cell_type": "code",
   "execution_count": 20,
   "metadata": {
    "colab": {},
    "colab_type": "code",
    "id": "klS0pRH9OD_R"
   },
   "outputs": [],
   "source": [
    "lockdown_countries_count = agm.get_data()[agm.get_data().MEASURE.str.contains(\"lockdown\")].COUNTRY.unique().shape[0]\n",
    "total_countries = agm.get_data().COUNTRY.unique().shape[0]\n",
    "no_lockdown_countries_count = total_countries - lockdown_countries_count"
   ]
  },
  {
   "cell_type": "code",
   "execution_count": 21,
   "metadata": {
    "colab": {
     "base_uri": "https://localhost:8080/",
     "height": 264
    },
    "colab_type": "code",
    "id": "_ARrubimOD_U",
    "outputId": "486d49da-78f4-4015-de6f-2fd878991426"
   },
   "outputs": [
    {
     "data": {
      "image/png": "[encoded data removed]",
      "text/plain": [
       "<Figure size 432x288 with 1 Axes>"
      ]
     },
     "metadata": {},
     "output_type": "display_data"
    }
   ],
   "source": [
    "plt.pie([lockdown_countries_count, no_lockdown_countries_count], labels=['Lockdown in place', 'No lockdown'],\n",
    "        autopct = lambda p: '{:.0f}'.format(p * total_countries / 100), startangle=90);\n",
    "plt.title('Full or partial lockdown in different countries');"
   ]
  },
  {
   "cell_type": "markdown",
   "metadata": {
    "colab_type": "text",
    "id": "gAJmG7NpPnTW"
   },
   "source": [
    "### Our World in Data\n",
    "Our World in Data collects data on the number of Covid-19 tests performed in multiple countries. They join this with case and death data from the European CDC. Conveniently they also provide cases and test counts normalised by population. See https://ourworldindata.org/coronavirus for more information."
   ]
  },
  {
   "cell_type": "code",
   "execution_count": 22,
   "metadata": {
    "colab": {},
    "colab_type": "code",
    "id": "eZUQNOEHVIkw"
   },
   "outputs": [],
   "source": [
    "from covid19_datasets import OWIDCovid19"
   ]
  },
  {
   "cell_type": "code",
   "execution_count": 23,
   "metadata": {
    "colab": {
     "base_uri": "https://localhost:8080/",
     "height": 68
    },
    "colab_type": "code",
    "id": "MVPLcEIUOD_X",
    "outputId": "ee1cc3df-c3fe-4c0a-b53a-edc5882c2299"
   },
   "outputs": [],
   "source": [
    "owid = OWIDCovid19()"
   ]
  },
  {
   "cell_type": "markdown",
   "metadata": {
    "colab_type": "text",
    "id": "K6sqxpjGVZJr"
   },
   "source": [
    "Example plot of cases vs tests for selected countries"
   ]
  },
  {
   "cell_type": "code",
   "execution_count": 24,
   "metadata": {
    "colab": {
     "base_uri": "https://localhost:8080/",
     "height": 327
    },
    "colab_type": "code",
    "id": "OI5CqVfMVNOy",
    "outputId": "1156249d-f55b-4b0c-c15b-28cc87b89b31"
   },
   "outputs": [
    {
     "data": {
      "image/png": "[encoded data removed]",
      "text/plain": [
       "<Figure size 1728x432 with 1 Axes>"
      ]
     },
     "metadata": {
      "needs_background": "light"
     },
     "output_type": "display_data"
    }
   ],
   "source": [
    "fig, ax = plt.subplots(figsize=(24, 6))\n",
    "countries = ['United States', 'United Kingdom', 'France', 'Germany']\n",
    "plot_data = owid.get_data()\n",
    "plot_data = plot_data[plot_data.location.isin(countries)]\n",
    "sns.lineplot(data=plot_data, x='DATE', y='total_tests_per_thousand', hue='location')\n",
    "plt.title('Total tests per thousand people by country');"
   ]
  },
  {
   "cell_type": "markdown",
   "metadata": {
    "colab": {},
    "colab_type": "code",
    "id": "pBRIpe2wg3W1"
   },
   "source": [
    "### UK cases data\n",
    "\n",
    "NHS provided data on daily cases of COVID-19 registered in different areas of the UK. So far we support England and Wales, Scotland and NI to be added later."
   ]
  },
  {
   "cell_type": "code",
   "execution_count": 25,
   "metadata": {},
   "outputs": [
    {
     "name": "stdout",
     "output_type": "stream",
     "text": [
      "INFO:covid19_datasets.uk_area_stats:Loading dataset from https://c19downloads.azureedge.net/downloads/csv/coronavirus-cases_latest.csv\n",
      "INFO:covid19_datasets.uk_area_stats:Loaded\n",
      "INFO:covid19_datasets.uk_area_stats:Loading dataset from http://www2.nphs.wales.nhs.uk:8080/CommunitySurveillanceDocs.nsf/61c1e930f9121fd080256f2a004937ed/77fdb9a33544aee88025855100300cab/$FILE/Rapid%20COVID-19%20surveillance%20data.xlsx\n",
      "INFO:covid19_datasets.uk_area_stats:Loaded\n"
     ]
    }
   ],
   "source": [
    "from covid19_datasets import UKCovid19Data\n",
    "uk_data = UKCovid19Data()"
   ]
  },
  {
   "cell_type": "markdown",
   "metadata": {},
   "source": [
    "As an example we are going to plot a daily statistics from York"
   ]
  },
  {
   "cell_type": "code",
   "execution_count": 36,
   "metadata": {},
   "outputs": [
    {
     "data": {
      "image/png": "[encoded data removed]",
      "text/plain": [
       "<Figure size 432x288 with 1 Axes>"
      ]
     },
     "metadata": {
      "needs_background": "light"
     },
     "output_type": "display_data"
    }
   ],
   "source": [
    "uk_cases = uk_data.get_cases_data()\n",
    "uk_cases.loc[('England', 'York')].plot()\n",
    "plt.xlabel('Date')\n",
    "plt.ylabel('Number of cases')\n",
    "plt.title('New cases of COVID-19 in York');"
   ]
  },
  {
   "cell_type": "code",
   "execution_count": null,
   "metadata": {},
   "outputs": [],
   "source": []
  }
 ],
 "metadata": {
  "colab": {
   "collapsed_sections": [],
   "name": "Copy of usage_example.ipynb",
   "provenance": []
  },
  "kernelspec": {
   "display_name": "Python 3",
   "language": "python",
   "name": "python3"
  },
  "language_info": {
   "codemirror_mode": {
    "name": "ipython",
    "version": 3
   },
   "file_extension": ".py",
   "mimetype": "text/x-python",
   "name": "python",
   "nbconvert_exporter": "python",
   "pygments_lexer": "ipython3",
   "version": "3.6.9"
  }
 },
 "nbformat": 4,
 "nbformat_minor": 1
}
