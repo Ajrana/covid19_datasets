{
  "nbformat": 4,
  "nbformat_minor": 0,
  "metadata": {
    "kernelspec": {
      "display_name": "Python 3",
      "language": "python",
      "name": "python3"
    },
    "language_info": {
      "codemirror_mode": {
        "name": "ipython",
        "version": 3
      },
      "file_extension": ".py",
      "mimetype": "text/x-python",
      "name": "python",
      "nbconvert_exporter": "python",
      "pygments_lexer": "ipython3",
      "version": "3.6.9"
    },
    "colab": {
      "name": "Copy of usage_example.ipynb",
      "provenance": [],
      "collapsed_sections": []
    }
  },
  "cells": [
    {
      "cell_type": "markdown",
      "metadata": {
        "id": "UR-WUWtFOD9-",
        "colab_type": "text"
      },
      "source": [
        "# COVID Datasets\n",
        "\n",
        "This notebook provides usage examples for Covid data set loaders stored in a python repository.\n",
        "\n",
        "First step is to install the code."
      ]
    },
    {
      "cell_type": "code",
      "metadata": {
        "id": "LRb68DX0OD-A",
        "colab_type": "code",
        "outputId": "42b33b2a-ddb3-42e3-ec40-6d145c2ee6c5",
        "colab": {
          "base_uri": "https://localhost:8080/",
          "height": 479
        }
      },
      "source": [
        "%pip install git+https://github.com/DELVE-covid19/covid19_datasets.git@cases_dataset"
      ],
      "execution_count": 1,
      "outputs": [
        {
          "output_type": "stream",
          "text": [
            "Collecting git+https://github.com/DELVE-covid19/covid19_datasets.git@cases_dataset\n",
            "  Cloning https://github.com/DELVE-covid19/covid19_datasets.git (to revision cases_dataset) to /tmp/pip-req-build-wbpdg9_t\n",
            "  Running command git clone -q https://github.com/DELVE-covid19/covid19_datasets.git /tmp/pip-req-build-wbpdg9_t\n",
            "  Running command git checkout -b cases_dataset --track origin/cases_dataset\n",
            "  Switched to a new branch 'cases_dataset'\n",
            "  Branch 'cases_dataset' set up to track remote branch 'cases_dataset' from 'origin'.\n",
            "Requirement already satisfied: numpy in /usr/local/lib/python3.6/dist-packages (from covid19-datasets==0.1) (1.18.2)\n",
            "Requirement already satisfied: pandas in /usr/local/lib/python3.6/dist-packages (from covid19-datasets==0.1) (1.0.3)\n",
            "Requirement already satisfied: pandas-datareader in /usr/local/lib/python3.6/dist-packages (from covid19-datasets==0.1) (0.8.1)\n",
            "Requirement already satisfied: xlrd>=1.0.0 in /usr/local/lib/python3.6/dist-packages (from covid19-datasets==0.1) (1.1.0)\n",
            "Requirement already satisfied: python-dateutil>=2.6.1 in /usr/local/lib/python3.6/dist-packages (from pandas->covid19-datasets==0.1) (2.8.1)\n",
            "Requirement already satisfied: pytz>=2017.2 in /usr/local/lib/python3.6/dist-packages (from pandas->covid19-datasets==0.1) (2018.9)\n",
            "Requirement already satisfied: lxml in /usr/local/lib/python3.6/dist-packages (from pandas-datareader->covid19-datasets==0.1) (4.2.6)\n",
            "Requirement already satisfied: requests>=2.3.0 in /usr/local/lib/python3.6/dist-packages (from pandas-datareader->covid19-datasets==0.1) (2.21.0)\n",
            "Requirement already satisfied: six>=1.5 in /usr/local/lib/python3.6/dist-packages (from python-dateutil>=2.6.1->pandas->covid19-datasets==0.1) (1.12.0)\n",
            "Requirement already satisfied: idna<2.9,>=2.5 in /usr/local/lib/python3.6/dist-packages (from requests>=2.3.0->pandas-datareader->covid19-datasets==0.1) (2.8)\n",
            "Requirement already satisfied: certifi>=2017.4.17 in /usr/local/lib/python3.6/dist-packages (from requests>=2.3.0->pandas-datareader->covid19-datasets==0.1) (2020.4.5.1)\n",
            "Requirement already satisfied: chardet<3.1.0,>=3.0.2 in /usr/local/lib/python3.6/dist-packages (from requests>=2.3.0->pandas-datareader->covid19-datasets==0.1) (3.0.4)\n",
            "Requirement already satisfied: urllib3<1.25,>=1.21.1 in /usr/local/lib/python3.6/dist-packages (from requests>=2.3.0->pandas-datareader->covid19-datasets==0.1) (1.24.3)\n",
            "Building wheels for collected packages: covid19-datasets\n",
            "  Building wheel for covid19-datasets (setup.py) ... \u001b[?25l\u001b[?25hdone\n",
            "  Created wheel for covid19-datasets: filename=covid19_datasets-0.1-cp36-none-any.whl size=11668 sha256=888ac3b8f33161f2659dc65d3b72803c1f79f055641ac0f02febd37a371fdced\n",
            "  Stored in directory: /tmp/pip-ephem-wheel-cache-4rrrwryv/wheels/b7/42/c0/ce85d31e7d7ace91059c57e21b14006fc80eed0967e07a53b0\n",
            "Successfully built covid19-datasets\n",
            "Installing collected packages: covid19-datasets\n",
            "Successfully installed covid19-datasets-0.1\n"
          ],
          "name": "stdout"
        }
      ]
    },
    {
      "cell_type": "markdown",
      "metadata": {
        "id": "VA76LykFOD-F",
        "colab_type": "text"
      },
      "source": [
        "Now some library files for visualising the data. "
      ]
    },
    {
      "cell_type": "code",
      "metadata": {
        "id": "822EV-F_OD-G",
        "colab_type": "code",
        "outputId": "e1ffb6df-02ae-42e0-8308-c15bb16decae",
        "colab": {
          "base_uri": "https://localhost:8080/",
          "height": 71
        }
      },
      "source": [
        "import matplotlib.pyplot as plt\n",
        "import seaborn as sns"
      ],
      "execution_count": 2,
      "outputs": [
        {
          "output_type": "stream",
          "text": [
            "/usr/local/lib/python3.6/dist-packages/statsmodels/tools/_testing.py:19: FutureWarning: pandas.util.testing is deprecated. Use the functions in the public API at pandas.testing instead.\n",
            "  import pandas.util.testing as tm\n"
          ],
          "name": "stderr"
        }
      ]
    },
    {
      "cell_type": "markdown",
      "metadata": {
        "id": "mJL_Q2PEOD-L",
        "colab_type": "text"
      },
      "source": [
        "Just for info, we include some log messages in this usage notebook to show how the data sets are loading."
      ]
    },
    {
      "cell_type": "code",
      "metadata": {
        "id": "5efQ2Wf1OD-M",
        "colab_type": "code",
        "colab": {}
      },
      "source": [
        "# optional - see log messages about datasets loading\n",
        "\n",
        "import logging\n",
        "import sys\n",
        "logging.basicConfig(stream=sys.stdout, level=logging.INFO)"
      ],
      "execution_count": 0,
      "outputs": []
    },
    {
      "cell_type": "markdown",
      "metadata": {
        "id": "bVqHbc3JTf8w",
        "colab_type": "text"
      },
      "source": [
        "# Combined Dataset\n",
        "Load the combined dataset, made up of data joined from multiple sources\n",
        "\n",
        "TODO(avishkar): Add some plots"
      ]
    },
    {
      "cell_type": "code",
      "metadata": {
        "id": "MX_VGfVFTt9B",
        "colab_type": "code",
        "colab": {
          "base_uri": "https://localhost:8080/",
          "height": 190
        },
        "outputId": "1a798b25-d8cc-47c1-94e7-be748d374c40"
      },
      "source": [
        "from covid19_datasets import Combined\n",
        "combined = Combined()"
      ],
      "execution_count": 4,
      "outputs": [
        {
          "output_type": "stream",
          "text": [
            "INFO:covid19_datasets.oxford_government_policy:Loading dataset from https://ocgptweb.azurewebsites.net/CSVDownload\n",
            "INFO:covid19_datasets.oxford_government_policy:Loaded\n",
            "INFO:covid19_datasets.mask_policies:Loading dataset from https://raw.githubusercontent.com/DELVE-covid19/covid19_datasets/master/data/mask_policy_dates.csv\n",
            "INFO:covid19_datasets.mask_policies:Loaded\n",
            "INFO:covid19_datasets.our_world_in_data:Loading dataset from https://covid.ourworldindata.org/data/owid-covid-data.csv\n",
            "INFO:numexpr.utils:NumExpr defaulting to 2 threads.\n",
            "INFO:covid19_datasets.our_world_in_data:Loaded\n",
            "INFO:covid19_datasets.our_world_in_data:Loading dataset from https://github.com/DELVE-covid19/covid19_datasets/raw/master/data/median-age.csv\n",
            "INFO:covid19_datasets.world_bank:Loading dataset\n"
          ],
          "name": "stdout"
        }
      ]
    },
    {
      "cell_type": "code",
      "metadata": {
        "id": "QRanY7ksT56M",
        "colab_type": "code",
        "colab": {
          "base_uri": "https://localhost:8080/",
          "height": 759
        },
        "outputId": "7f4d9151-87a2-4228-caff-7b1c2848d259"
      },
      "source": [
        "#@title View UK Data\n",
        "combined.get_data().loc['GBR']"
      ],
      "execution_count": 9,
      "outputs": [
        {
          "output_type": "execute_result",
          "data": {
            "text/html": [
              "<div>\n",
              "<style scoped>\n",
              "    .dataframe tbody tr th:only-of-type {\n",
              "        vertical-align: middle;\n",
              "    }\n",
              "\n",
              "    .dataframe tbody tr th {\n",
              "        vertical-align: top;\n",
              "    }\n",
              "\n",
              "    .dataframe thead th {\n",
              "        text-align: right;\n",
              "    }\n",
              "</style>\n",
              "<table border=\"1\" class=\"dataframe\">\n",
              "  <thead>\n",
              "    <tr style=\"text-align: right;\">\n",
              "      <th></th>\n",
              "      <th>CountryName</th>\n",
              "      <th>School closing</th>\n",
              "      <th>Workplace closing</th>\n",
              "      <th>Cancel public events</th>\n",
              "      <th>Close public transport</th>\n",
              "      <th>Public information campaigns</th>\n",
              "      <th>Restrictions on internal movement</th>\n",
              "      <th>International travel controls</th>\n",
              "      <th>Fiscal measures</th>\n",
              "      <th>Monetary measures</th>\n",
              "      <th>Emergency investment in health care</th>\n",
              "      <th>Investment in Vaccines</th>\n",
              "      <th>Testing framework</th>\n",
              "      <th>Contact tracing</th>\n",
              "      <th>Masks</th>\n",
              "      <th>total_cases</th>\n",
              "      <th>new_cases</th>\n",
              "      <th>total_deaths</th>\n",
              "      <th>new_deaths</th>\n",
              "      <th>total_cases_per_million</th>\n",
              "      <th>new_cases_per_million</th>\n",
              "      <th>total_deaths_per_million</th>\n",
              "      <th>new_deaths_per_million</th>\n",
              "      <th>total_tests</th>\n",
              "      <th>new_tests</th>\n",
              "      <th>total_tests_per_thousand</th>\n",
              "      <th>new_tests_per_thousand</th>\n",
              "      <th>days_since_first_case</th>\n",
              "      <th>days_since_first_death</th>\n",
              "      <th>median_age</th>\n",
              "      <th>hospital_beds (per 1000)</th>\n",
              "      <th>physicians (per 1000)</th>\n",
              "      <th>nurses (per 1000)</th>\n",
              "      <th>Smoking prevalence, total, ages 15+</th>\n",
              "      <th>Mortality rate, adult, female (per 1,000 female adults)</th>\n",
              "      <th>Mortality rate, adult, male (per 1,000 male adults)</th>\n",
              "      <th>Population Density</th>\n",
              "      <th>Population in Urban Agglomerations</th>\n",
              "      <th>Population Female</th>\n",
              "      <th>Population Male</th>\n",
              "      <th>Population</th>\n",
              "    </tr>\n",
              "    <tr>\n",
              "      <th>DATE</th>\n",
              "      <th></th>\n",
              "      <th></th>\n",
              "      <th></th>\n",
              "      <th></th>\n",
              "      <th></th>\n",
              "      <th></th>\n",
              "      <th></th>\n",
              "      <th></th>\n",
              "      <th></th>\n",
              "      <th></th>\n",
              "      <th></th>\n",
              "      <th></th>\n",
              "      <th></th>\n",
              "      <th></th>\n",
              "      <th></th>\n",
              "      <th></th>\n",
              "      <th></th>\n",
              "      <th></th>\n",
              "      <th></th>\n",
              "      <th></th>\n",
              "      <th></th>\n",
              "      <th></th>\n",
              "      <th></th>\n",
              "      <th></th>\n",
              "      <th></th>\n",
              "      <th></th>\n",
              "      <th></th>\n",
              "      <th></th>\n",
              "      <th></th>\n",
              "      <th></th>\n",
              "      <th></th>\n",
              "      <th></th>\n",
              "      <th></th>\n",
              "      <th></th>\n",
              "      <th></th>\n",
              "      <th></th>\n",
              "      <th></th>\n",
              "      <th></th>\n",
              "      <th></th>\n",
              "      <th></th>\n",
              "      <th></th>\n",
              "    </tr>\n",
              "  </thead>\n",
              "  <tbody>\n",
              "    <tr>\n",
              "      <th>2020-01-01</th>\n",
              "      <td>United Kingdom</td>\n",
              "      <td>0.0</td>\n",
              "      <td>0.0</td>\n",
              "      <td>0.0</td>\n",
              "      <td>0.0</td>\n",
              "      <td>0.0</td>\n",
              "      <td>0.0</td>\n",
              "      <td>0.0</td>\n",
              "      <td>0.000000e+00</td>\n",
              "      <td>0.75</td>\n",
              "      <td>0.0</td>\n",
              "      <td>0.0</td>\n",
              "      <td>0.0</td>\n",
              "      <td>0.0</td>\n",
              "      <td>0.0</td>\n",
              "      <td>0.0</td>\n",
              "      <td>0.0</td>\n",
              "      <td>0.0</td>\n",
              "      <td>0.0</td>\n",
              "      <td>0.000</td>\n",
              "      <td>0.000</td>\n",
              "      <td>0.000</td>\n",
              "      <td>0.000</td>\n",
              "      <td>0.0</td>\n",
              "      <td>0.0</td>\n",
              "      <td>0.000</td>\n",
              "      <td>0.000</td>\n",
              "      <td>0.0</td>\n",
              "      <td>0.0</td>\n",
              "      <td>40.200001</td>\n",
              "      <td>2.8</td>\n",
              "      <td>2.8058</td>\n",
              "      <td>8.2878</td>\n",
              "      <td>22.3</td>\n",
              "      <td>55.36</td>\n",
              "      <td>86.107</td>\n",
              "      <td>274.827392</td>\n",
              "      <td>17831615.0</td>\n",
              "      <td>33652378.0</td>\n",
              "      <td>32807966.0</td>\n",
              "      <td>66460344.0</td>\n",
              "    </tr>\n",
              "    <tr>\n",
              "      <th>2020-01-02</th>\n",
              "      <td>United Kingdom</td>\n",
              "      <td>0.0</td>\n",
              "      <td>0.0</td>\n",
              "      <td>0.0</td>\n",
              "      <td>0.0</td>\n",
              "      <td>0.0</td>\n",
              "      <td>0.0</td>\n",
              "      <td>0.0</td>\n",
              "      <td>0.000000e+00</td>\n",
              "      <td>0.75</td>\n",
              "      <td>0.0</td>\n",
              "      <td>0.0</td>\n",
              "      <td>0.0</td>\n",
              "      <td>0.0</td>\n",
              "      <td>0.0</td>\n",
              "      <td>0.0</td>\n",
              "      <td>0.0</td>\n",
              "      <td>0.0</td>\n",
              "      <td>0.0</td>\n",
              "      <td>0.000</td>\n",
              "      <td>0.000</td>\n",
              "      <td>0.000</td>\n",
              "      <td>0.000</td>\n",
              "      <td>0.0</td>\n",
              "      <td>0.0</td>\n",
              "      <td>0.000</td>\n",
              "      <td>0.000</td>\n",
              "      <td>0.0</td>\n",
              "      <td>0.0</td>\n",
              "      <td>40.200001</td>\n",
              "      <td>2.8</td>\n",
              "      <td>2.8058</td>\n",
              "      <td>8.2878</td>\n",
              "      <td>22.3</td>\n",
              "      <td>55.36</td>\n",
              "      <td>86.107</td>\n",
              "      <td>274.827392</td>\n",
              "      <td>17831615.0</td>\n",
              "      <td>33652378.0</td>\n",
              "      <td>32807966.0</td>\n",
              "      <td>66460344.0</td>\n",
              "    </tr>\n",
              "    <tr>\n",
              "      <th>2020-01-03</th>\n",
              "      <td>United Kingdom</td>\n",
              "      <td>0.0</td>\n",
              "      <td>0.0</td>\n",
              "      <td>0.0</td>\n",
              "      <td>0.0</td>\n",
              "      <td>0.0</td>\n",
              "      <td>0.0</td>\n",
              "      <td>0.0</td>\n",
              "      <td>0.000000e+00</td>\n",
              "      <td>0.75</td>\n",
              "      <td>0.0</td>\n",
              "      <td>0.0</td>\n",
              "      <td>0.0</td>\n",
              "      <td>0.0</td>\n",
              "      <td>0.0</td>\n",
              "      <td>0.0</td>\n",
              "      <td>0.0</td>\n",
              "      <td>0.0</td>\n",
              "      <td>0.0</td>\n",
              "      <td>0.000</td>\n",
              "      <td>0.000</td>\n",
              "      <td>0.000</td>\n",
              "      <td>0.000</td>\n",
              "      <td>0.0</td>\n",
              "      <td>0.0</td>\n",
              "      <td>0.000</td>\n",
              "      <td>0.000</td>\n",
              "      <td>0.0</td>\n",
              "      <td>0.0</td>\n",
              "      <td>40.200001</td>\n",
              "      <td>2.8</td>\n",
              "      <td>2.8058</td>\n",
              "      <td>8.2878</td>\n",
              "      <td>22.3</td>\n",
              "      <td>55.36</td>\n",
              "      <td>86.107</td>\n",
              "      <td>274.827392</td>\n",
              "      <td>17831615.0</td>\n",
              "      <td>33652378.0</td>\n",
              "      <td>32807966.0</td>\n",
              "      <td>66460344.0</td>\n",
              "    </tr>\n",
              "    <tr>\n",
              "      <th>2020-01-04</th>\n",
              "      <td>United Kingdom</td>\n",
              "      <td>0.0</td>\n",
              "      <td>0.0</td>\n",
              "      <td>0.0</td>\n",
              "      <td>0.0</td>\n",
              "      <td>0.0</td>\n",
              "      <td>0.0</td>\n",
              "      <td>0.0</td>\n",
              "      <td>0.000000e+00</td>\n",
              "      <td>0.75</td>\n",
              "      <td>0.0</td>\n",
              "      <td>0.0</td>\n",
              "      <td>0.0</td>\n",
              "      <td>0.0</td>\n",
              "      <td>0.0</td>\n",
              "      <td>0.0</td>\n",
              "      <td>0.0</td>\n",
              "      <td>0.0</td>\n",
              "      <td>0.0</td>\n",
              "      <td>0.000</td>\n",
              "      <td>0.000</td>\n",
              "      <td>0.000</td>\n",
              "      <td>0.000</td>\n",
              "      <td>0.0</td>\n",
              "      <td>0.0</td>\n",
              "      <td>0.000</td>\n",
              "      <td>0.000</td>\n",
              "      <td>0.0</td>\n",
              "      <td>0.0</td>\n",
              "      <td>40.200001</td>\n",
              "      <td>2.8</td>\n",
              "      <td>2.8058</td>\n",
              "      <td>8.2878</td>\n",
              "      <td>22.3</td>\n",
              "      <td>55.36</td>\n",
              "      <td>86.107</td>\n",
              "      <td>274.827392</td>\n",
              "      <td>17831615.0</td>\n",
              "      <td>33652378.0</td>\n",
              "      <td>32807966.0</td>\n",
              "      <td>66460344.0</td>\n",
              "    </tr>\n",
              "    <tr>\n",
              "      <th>2020-01-05</th>\n",
              "      <td>United Kingdom</td>\n",
              "      <td>0.0</td>\n",
              "      <td>0.0</td>\n",
              "      <td>0.0</td>\n",
              "      <td>0.0</td>\n",
              "      <td>0.0</td>\n",
              "      <td>0.0</td>\n",
              "      <td>0.0</td>\n",
              "      <td>0.000000e+00</td>\n",
              "      <td>0.75</td>\n",
              "      <td>0.0</td>\n",
              "      <td>0.0</td>\n",
              "      <td>0.0</td>\n",
              "      <td>0.0</td>\n",
              "      <td>0.0</td>\n",
              "      <td>0.0</td>\n",
              "      <td>0.0</td>\n",
              "      <td>0.0</td>\n",
              "      <td>0.0</td>\n",
              "      <td>0.000</td>\n",
              "      <td>0.000</td>\n",
              "      <td>0.000</td>\n",
              "      <td>0.000</td>\n",
              "      <td>0.0</td>\n",
              "      <td>0.0</td>\n",
              "      <td>0.000</td>\n",
              "      <td>0.000</td>\n",
              "      <td>0.0</td>\n",
              "      <td>0.0</td>\n",
              "      <td>40.200001</td>\n",
              "      <td>2.8</td>\n",
              "      <td>2.8058</td>\n",
              "      <td>8.2878</td>\n",
              "      <td>22.3</td>\n",
              "      <td>55.36</td>\n",
              "      <td>86.107</td>\n",
              "      <td>274.827392</td>\n",
              "      <td>17831615.0</td>\n",
              "      <td>33652378.0</td>\n",
              "      <td>32807966.0</td>\n",
              "      <td>66460344.0</td>\n",
              "    </tr>\n",
              "    <tr>\n",
              "      <th>...</th>\n",
              "      <td>...</td>\n",
              "      <td>...</td>\n",
              "      <td>...</td>\n",
              "      <td>...</td>\n",
              "      <td>...</td>\n",
              "      <td>...</td>\n",
              "      <td>...</td>\n",
              "      <td>...</td>\n",
              "      <td>...</td>\n",
              "      <td>...</td>\n",
              "      <td>...</td>\n",
              "      <td>...</td>\n",
              "      <td>...</td>\n",
              "      <td>...</td>\n",
              "      <td>...</td>\n",
              "      <td>...</td>\n",
              "      <td>...</td>\n",
              "      <td>...</td>\n",
              "      <td>...</td>\n",
              "      <td>...</td>\n",
              "      <td>...</td>\n",
              "      <td>...</td>\n",
              "      <td>...</td>\n",
              "      <td>...</td>\n",
              "      <td>...</td>\n",
              "      <td>...</td>\n",
              "      <td>...</td>\n",
              "      <td>...</td>\n",
              "      <td>...</td>\n",
              "      <td>...</td>\n",
              "      <td>...</td>\n",
              "      <td>...</td>\n",
              "      <td>...</td>\n",
              "      <td>...</td>\n",
              "      <td>...</td>\n",
              "      <td>...</td>\n",
              "      <td>...</td>\n",
              "      <td>...</td>\n",
              "      <td>...</td>\n",
              "      <td>...</td>\n",
              "      <td>...</td>\n",
              "    </tr>\n",
              "    <tr>\n",
              "      <th>2020-04-19</th>\n",
              "      <td>United Kingdom</td>\n",
              "      <td>2.0</td>\n",
              "      <td>2.0</td>\n",
              "      <td>2.0</td>\n",
              "      <td>0.0</td>\n",
              "      <td>1.0</td>\n",
              "      <td>2.0</td>\n",
              "      <td>0.0</td>\n",
              "      <td>0.000000e+00</td>\n",
              "      <td>0.10</td>\n",
              "      <td>0.0</td>\n",
              "      <td>0.0</td>\n",
              "      <td>1.0</td>\n",
              "      <td>0.0</td>\n",
              "      <td>0.0</td>\n",
              "      <td>114217.0</td>\n",
              "      <td>5525.0</td>\n",
              "      <td>15464.0</td>\n",
              "      <td>888.0</td>\n",
              "      <td>1682.482</td>\n",
              "      <td>81.386</td>\n",
              "      <td>227.794</td>\n",
              "      <td>13.081</td>\n",
              "      <td>372967.0</td>\n",
              "      <td>15944.0</td>\n",
              "      <td>5.539</td>\n",
              "      <td>0.237</td>\n",
              "      <td>79.0</td>\n",
              "      <td>44.0</td>\n",
              "      <td>40.200001</td>\n",
              "      <td>2.8</td>\n",
              "      <td>2.8058</td>\n",
              "      <td>8.2878</td>\n",
              "      <td>22.3</td>\n",
              "      <td>55.36</td>\n",
              "      <td>86.107</td>\n",
              "      <td>274.827392</td>\n",
              "      <td>17831615.0</td>\n",
              "      <td>33652378.0</td>\n",
              "      <td>32807966.0</td>\n",
              "      <td>66460344.0</td>\n",
              "    </tr>\n",
              "    <tr>\n",
              "      <th>2020-04-20</th>\n",
              "      <td>United Kingdom</td>\n",
              "      <td>2.0</td>\n",
              "      <td>2.0</td>\n",
              "      <td>2.0</td>\n",
              "      <td>0.0</td>\n",
              "      <td>1.0</td>\n",
              "      <td>2.0</td>\n",
              "      <td>0.0</td>\n",
              "      <td>1.550000e+09</td>\n",
              "      <td>0.10</td>\n",
              "      <td>0.0</td>\n",
              "      <td>0.0</td>\n",
              "      <td>1.0</td>\n",
              "      <td>0.0</td>\n",
              "      <td>0.0</td>\n",
              "      <td>120067.0</td>\n",
              "      <td>5850.0</td>\n",
              "      <td>16060.0</td>\n",
              "      <td>596.0</td>\n",
              "      <td>1768.656</td>\n",
              "      <td>86.174</td>\n",
              "      <td>236.573</td>\n",
              "      <td>8.779</td>\n",
              "      <td>386044.0</td>\n",
              "      <td>13077.0</td>\n",
              "      <td>5.733</td>\n",
              "      <td>0.194</td>\n",
              "      <td>80.0</td>\n",
              "      <td>45.0</td>\n",
              "      <td>40.200001</td>\n",
              "      <td>2.8</td>\n",
              "      <td>2.8058</td>\n",
              "      <td>8.2878</td>\n",
              "      <td>22.3</td>\n",
              "      <td>55.36</td>\n",
              "      <td>86.107</td>\n",
              "      <td>274.827392</td>\n",
              "      <td>17831615.0</td>\n",
              "      <td>33652378.0</td>\n",
              "      <td>32807966.0</td>\n",
              "      <td>66460344.0</td>\n",
              "    </tr>\n",
              "    <tr>\n",
              "      <th>2020-04-21</th>\n",
              "      <td>United Kingdom</td>\n",
              "      <td>2.0</td>\n",
              "      <td>2.0</td>\n",
              "      <td>2.0</td>\n",
              "      <td>0.0</td>\n",
              "      <td>1.0</td>\n",
              "      <td>2.0</td>\n",
              "      <td>0.0</td>\n",
              "      <td>0.000000e+00</td>\n",
              "      <td>0.10</td>\n",
              "      <td>0.0</td>\n",
              "      <td>0.0</td>\n",
              "      <td>1.0</td>\n",
              "      <td>0.0</td>\n",
              "      <td>0.0</td>\n",
              "      <td>124743.0</td>\n",
              "      <td>4676.0</td>\n",
              "      <td>16509.0</td>\n",
              "      <td>449.0</td>\n",
              "      <td>1837.536</td>\n",
              "      <td>68.880</td>\n",
              "      <td>243.187</td>\n",
              "      <td>6.614</td>\n",
              "      <td>397670.0</td>\n",
              "      <td>11626.0</td>\n",
              "      <td>5.906</td>\n",
              "      <td>0.173</td>\n",
              "      <td>81.0</td>\n",
              "      <td>46.0</td>\n",
              "      <td>40.200001</td>\n",
              "      <td>2.8</td>\n",
              "      <td>2.8058</td>\n",
              "      <td>8.2878</td>\n",
              "      <td>22.3</td>\n",
              "      <td>55.36</td>\n",
              "      <td>86.107</td>\n",
              "      <td>274.827392</td>\n",
              "      <td>17831615.0</td>\n",
              "      <td>33652378.0</td>\n",
              "      <td>32807966.0</td>\n",
              "      <td>66460344.0</td>\n",
              "    </tr>\n",
              "    <tr>\n",
              "      <th>2020-04-22</th>\n",
              "      <td>United Kingdom</td>\n",
              "      <td>2.0</td>\n",
              "      <td>2.0</td>\n",
              "      <td>2.0</td>\n",
              "      <td>0.0</td>\n",
              "      <td>1.0</td>\n",
              "      <td>2.0</td>\n",
              "      <td>0.0</td>\n",
              "      <td>0.000000e+00</td>\n",
              "      <td>0.10</td>\n",
              "      <td>0.0</td>\n",
              "      <td>0.0</td>\n",
              "      <td>1.0</td>\n",
              "      <td>0.0</td>\n",
              "      <td>0.0</td>\n",
              "      <td>129044.0</td>\n",
              "      <td>4301.0</td>\n",
              "      <td>17337.0</td>\n",
              "      <td>828.0</td>\n",
              "      <td>1900.893</td>\n",
              "      <td>63.356</td>\n",
              "      <td>255.384</td>\n",
              "      <td>12.197</td>\n",
              "      <td>411192.0</td>\n",
              "      <td>13522.0</td>\n",
              "      <td>6.107</td>\n",
              "      <td>0.201</td>\n",
              "      <td>82.0</td>\n",
              "      <td>47.0</td>\n",
              "      <td>40.200001</td>\n",
              "      <td>2.8</td>\n",
              "      <td>2.8058</td>\n",
              "      <td>8.2878</td>\n",
              "      <td>22.3</td>\n",
              "      <td>55.36</td>\n",
              "      <td>86.107</td>\n",
              "      <td>274.827392</td>\n",
              "      <td>17831615.0</td>\n",
              "      <td>33652378.0</td>\n",
              "      <td>32807966.0</td>\n",
              "      <td>66460344.0</td>\n",
              "    </tr>\n",
              "    <tr>\n",
              "      <th>2020-04-23</th>\n",
              "      <td>United Kingdom</td>\n",
              "      <td>2.0</td>\n",
              "      <td>2.0</td>\n",
              "      <td>2.0</td>\n",
              "      <td>0.0</td>\n",
              "      <td>1.0</td>\n",
              "      <td>2.0</td>\n",
              "      <td>0.0</td>\n",
              "      <td>0.000000e+00</td>\n",
              "      <td>0.10</td>\n",
              "      <td>0.0</td>\n",
              "      <td>0.0</td>\n",
              "      <td>1.0</td>\n",
              "      <td>0.0</td>\n",
              "      <td>0.0</td>\n",
              "      <td>133495.0</td>\n",
              "      <td>4451.0</td>\n",
              "      <td>18100.0</td>\n",
              "      <td>763.0</td>\n",
              "      <td>1966.458</td>\n",
              "      <td>65.566</td>\n",
              "      <td>266.623</td>\n",
              "      <td>11.239</td>\n",
              "      <td>425821.0</td>\n",
              "      <td>14629.0</td>\n",
              "      <td>6.324</td>\n",
              "      <td>0.217</td>\n",
              "      <td>83.0</td>\n",
              "      <td>48.0</td>\n",
              "      <td>40.200001</td>\n",
              "      <td>2.8</td>\n",
              "      <td>2.8058</td>\n",
              "      <td>8.2878</td>\n",
              "      <td>22.3</td>\n",
              "      <td>55.36</td>\n",
              "      <td>86.107</td>\n",
              "      <td>274.827392</td>\n",
              "      <td>17831615.0</td>\n",
              "      <td>33652378.0</td>\n",
              "      <td>32807966.0</td>\n",
              "      <td>66460344.0</td>\n",
              "    </tr>\n",
              "  </tbody>\n",
              "</table>\n",
              "<p>114 rows × 41 columns</p>\n",
              "</div>"
            ],
            "text/plain": [
              "               CountryName  School closing  ...  Population Male  Population\n",
              "DATE                                        ...                             \n",
              "2020-01-01  United Kingdom             0.0  ...       32807966.0  66460344.0\n",
              "2020-01-02  United Kingdom             0.0  ...       32807966.0  66460344.0\n",
              "2020-01-03  United Kingdom             0.0  ...       32807966.0  66460344.0\n",
              "2020-01-04  United Kingdom             0.0  ...       32807966.0  66460344.0\n",
              "2020-01-05  United Kingdom             0.0  ...       32807966.0  66460344.0\n",
              "...                    ...             ...  ...              ...         ...\n",
              "2020-04-19  United Kingdom             2.0  ...       32807966.0  66460344.0\n",
              "2020-04-20  United Kingdom             2.0  ...       32807966.0  66460344.0\n",
              "2020-04-21  United Kingdom             2.0  ...       32807966.0  66460344.0\n",
              "2020-04-22  United Kingdom             2.0  ...       32807966.0  66460344.0\n",
              "2020-04-23  United Kingdom             2.0  ...       32807966.0  66460344.0\n",
              "\n",
              "[114 rows x 41 columns]"
            ]
          },
          "metadata": {
            "tags": []
          },
          "execution_count": 9
        }
      ]
    },
    {
      "cell_type": "markdown",
      "metadata": {
        "id": "8xQNU1VSThYh",
        "colab_type": "text"
      },
      "source": [
        "# Underlying Source Datasets\n",
        "You can also access the individual source datasets, some of which may not be in the combined dataset yet."
      ]
    },
    {
      "cell_type": "markdown",
      "metadata": {
        "id": "oFqajvvlOD-R",
        "colab_type": "text"
      },
      "source": [
        "### Oxford Government Policy Tracker\n",
        "\n",
        "The Oxford Government policy tracker available [here](https://www.bsg.ox.ac.uk/research/research-projects/coronavirus-government-response-tracker) allows different government responses to Covid19 be loaded in. It can be loaded from the `covid19_datasets` as follows."
      ]
    },
    {
      "cell_type": "code",
      "metadata": {
        "scrolled": true,
        "id": "Lol9vkxNOD-R",
        "colab_type": "code",
        "colab": {}
      },
      "source": [
        "from covid19_datasets import OxfordGovernmentPolicyDataset"
      ],
      "execution_count": 0,
      "outputs": []
    },
    {
      "cell_type": "markdown",
      "metadata": {
        "id": "PH25Fe9hOD-W",
        "colab_type": "text"
      },
      "source": [
        "You can create an instance of the data set by constructing a data set object."
      ]
    },
    {
      "cell_type": "code",
      "metadata": {
        "id": "UPluw8dLOD-X",
        "colab_type": "code",
        "outputId": "733da650-caaf-4175-da27-2af1c46e6f2a",
        "colab": {
          "base_uri": "https://localhost:8080/",
          "height": 51
        }
      },
      "source": [
        "ogp = OxfordGovernmentPolicyDataset()"
      ],
      "execution_count": 5,
      "outputs": [
        {
          "output_type": "stream",
          "text": [
            "INFO:covid19_datasets.oxford_government_policy:Loading dataset from https://ocgptweb.azurewebsites.net/CSVDownload\n",
            "INFO:covid19_datasets.oxford_government_policy:Loaded\n"
          ],
          "name": "stdout"
        }
      ]
    },
    {
      "cell_type": "markdown",
      "metadata": {
        "id": "Rz1aaBqCOD-b",
        "colab_type": "text"
      },
      "source": [
        "As an example, we'll look at policy information from South Africa. "
      ]
    },
    {
      "cell_type": "code",
      "metadata": {
        "id": "A7hlNxk8OD-c",
        "colab_type": "code",
        "colab": {}
      },
      "source": [
        "country = 'South Africa'"
      ],
      "execution_count": 0,
      "outputs": []
    },
    {
      "cell_type": "markdown",
      "metadata": {
        "id": "mHNK3NFnOD-i",
        "colab_type": "text"
      },
      "source": [
        "To share the policies, we'll use `matplotlib` to plot when different policies occured and compare it with epidemic dynamics"
      ]
    },
    {
      "cell_type": "code",
      "metadata": {
        "id": "j7Bbi7f3OD-j",
        "colab_type": "code",
        "outputId": "b19614eb-58b5-421b-f7c5-cd3488ba1961",
        "colab": {
          "base_uri": "https://localhost:8080/",
          "height": 324
        }
      },
      "source": [
        "fig, ax = plt.subplots(figsize=(24, 6))\n",
        "ogp.get_country_data(country).set_index('DATE').ConfirmedCases.plot(ax=ax)\n",
        "\n",
        "policy_changes = ogp.get_country_policy_changes(country)\n",
        "\n",
        "for c in policy_changes.columns:\n",
        "    policy = policy_changes.loc[:, c]\n",
        "    policy = policy[policy]\n",
        "    if policy.any():\n",
        "        for d in policy.index:\n",
        "            ax.axvline(d, color='k', ls='--')"
      ],
      "execution_count": 9,
      "outputs": [
        {
          "output_type": "display_data",
          "data": {
            "image/png": "[encoded data removed]",
            "text/plain": [
              "<Figure size 1728x432 with 1 Axes>"
            ]
          },
          "metadata": {
            "tags": [],
            "needs_background": "light"
          }
        }
      ]
    },
    {
      "cell_type": "markdown",
      "metadata": {
        "id": "sytG1h4tOD-m",
        "colab_type": "text"
      },
      "source": [
        "We can also cycle through the policy changes to print when different changes were made."
      ]
    },
    {
      "cell_type": "code",
      "metadata": {
        "id": "aRdxLYphOD-n",
        "colab_type": "code",
        "outputId": "b60f4647-d942-4537-e02e-e8c49b5d7a5b",
        "colab": {
          "base_uri": "https://localhost:8080/",
          "height": 391
        }
      },
      "source": [
        "for c in policy_changes.columns:\n",
        "    policy = policy_changes.loc[:, c]\n",
        "    policy = policy[policy]\n",
        "    if policy.any():\n",
        "        for d in policy.index:\n",
        "            print(f'Policy {c} changed on {d}')"
      ],
      "execution_count": 10,
      "outputs": [
        {
          "output_type": "stream",
          "text": [
            "Policy School closing changed on 2020-03-18 00:00:00\n",
            "Policy Workplace closing changed on 2020-03-15 00:00:00\n",
            "Policy Workplace closing changed on 2020-03-18 00:00:00\n",
            "Policy Cancel public events changed on 2020-03-15 00:00:00\n",
            "Policy Close public transport changed on 2020-03-18 00:00:00\n",
            "Policy Public information campaigns changed on 2020-03-07 00:00:00\n",
            "Policy Restrictions on internal movement changed on 2020-03-15 00:00:00\n",
            "Policy Restrictions on internal movement changed on 2020-03-18 00:00:00\n",
            "Policy International travel controls changed on 2020-01-23 00:00:00\n",
            "Policy International travel controls changed on 2020-03-17 00:00:00\n",
            "Policy Fiscal measures changed on 2020-03-24 00:00:00\n",
            "Policy Fiscal measures changed on 2020-03-25 00:00:00\n",
            "Policy Fiscal measures changed on 2020-03-30 00:00:00\n",
            "Policy Monetary measures changed on 2020-02-29 00:00:00\n",
            "Policy Monetary measures changed on 2020-03-07 00:00:00\n",
            "Policy Monetary measures changed on 2020-03-20 00:00:00\n",
            "Policy Monetary measures changed on 2020-04-15 00:00:00\n",
            "Policy Emergency investment in health care changed on 2020-03-24 00:00:00\n",
            "Policy Emergency investment in health care changed on 2020-03-25 00:00:00\n",
            "Policy Testing framework changed on 2020-03-07 00:00:00\n",
            "Policy Testing framework changed on 2020-03-28 00:00:00\n",
            "Policy Contact tracing changed on 2020-03-07 00:00:00\n"
          ],
          "name": "stdout"
        }
      ]
    },
    {
      "cell_type": "markdown",
      "metadata": {
        "id": "_DU-Ef0mOD-r",
        "colab_type": "text"
      },
      "source": [
        "### World Bank Data\n",
        "\n",
        "The world bank provides global development data for individual countries and bigger regions,. Available is data on population, economy, education, etc. More info at https://data.worldbank.org/."
      ]
    },
    {
      "cell_type": "code",
      "metadata": {
        "id": "5FNfUYpcOD-r",
        "colab_type": "code",
        "colab": {}
      },
      "source": [
        "from covid19_datasets import WorldBankDataBank, AGGREGATES"
      ],
      "execution_count": 0,
      "outputs": []
    },
    {
      "cell_type": "code",
      "metadata": {
        "id": "7pDidC6TOD-v",
        "colab_type": "code",
        "outputId": "f0f16ad0-e294-4016-a13f-0844e885dadb",
        "colab": {
          "base_uri": "https://localhost:8080/",
          "height": 34
        }
      },
      "source": [
        "wbdb = WorldBankDataBank()"
      ],
      "execution_count": 5,
      "outputs": [
        {
          "output_type": "stream",
          "text": [
            "INFO:covid19_datasets.world_bank:Loading dataset\n"
          ],
          "name": "stdout"
        }
      ]
    },
    {
      "cell_type": "markdown",
      "metadata": {
        "id": "Sj8kivH1OD-z",
        "colab_type": "text"
      },
      "source": [
        "Here we plot population and population density for 20 most populated countries in the world, using matplotlib. Notice how AGGREGATES that represent world's regions must be dropped from the dataset, to leave only individual countries data."
      ]
    },
    {
      "cell_type": "code",
      "metadata": {
        "id": "BVqP4dgoOD-0",
        "colab_type": "code",
        "outputId": "2bafd962-2591-47b3-d22a-ceb6fdbf03d7",
        "colab": {
          "base_uri": "https://localhost:8080/",
          "height": 643
        }
      },
      "source": [
        "df = wbdb.get_data().set_index('country').drop(AGGREGATES).nlargest(20, \"Population\")\n",
        "\n",
        "_, ax = plt.subplots(figsize=(20, 10))\n",
        "ax2 = ax.twinx() # Create another axes that shares the same x-axis as ax.\n",
        "\n",
        "df[\"Population\"].plot(kind='bar', color='blue', ax=ax, position=1, width=0.4)\n",
        "df[\"Population Density\"].plot(kind='bar', color='orange', ax=ax2, position=0, width=0.4)\n",
        "\n",
        "ax.set_ylabel('Population')\n",
        "ax2.set_ylabel('Population Density')\n",
        "\n",
        "plt.show()"
      ],
      "execution_count": 6,
      "outputs": [
        {
          "output_type": "display_data",
          "data": {
            "image/png": "[encoded data removed]",
            "text/plain": [
              "<Figure size 1440x720 with 2 Axes>"
            ]
          },
          "metadata": {
            "tags": [],
            "needs_background": "light"
          }
        }
      ]
    },
    {
      "cell_type": "markdown",
      "metadata": {
        "id": "QxPMp3kZOD-6",
        "colab_type": "text"
      },
      "source": [
        "### YouGov Behavioural Tracker\n",
        "\n",
        "YouGov's behavioural tracker conducts surveys in more than 30 countries to understand how COVID-19 and governmental response to it affects human behavior. More info can be found here: https://yougov.co.uk/topics/international/articles-reports/2020/03/17/YouGov-international-COVID-19-tracker. The raw data can be seen in YouGov COVID-19 tracker [github page](https://github.com/YouGov-Data/covid-19-tracker/tree/master/data)."
      ]
    },
    {
      "cell_type": "code",
      "metadata": {
        "id": "8TURlqeVOD-7",
        "colab_type": "code",
        "colab": {}
      },
      "source": [
        "from covid19_datasets import YouGovBehaviouralTracker"
      ],
      "execution_count": 0,
      "outputs": []
    },
    {
      "cell_type": "code",
      "metadata": {
        "id": "aF9TTJVzOD--",
        "colab_type": "code",
        "outputId": "5329ebfa-c1ed-4667-c5a2-f2b43daf59a0",
        "colab": {
          "base_uri": "https://localhost:8080/",
          "height": 68
        }
      },
      "source": [
        "ygbt = YouGovBehaviouralTracker()"
      ],
      "execution_count": 8,
      "outputs": [
        {
          "output_type": "stream",
          "text": [
            "INFO:covid19_datasets.yougov_behavioural_tracker:Loading dataset\n",
            "ERROR:covid19_datasets.yougov_behavioural_tracker:ERROR WITH finland\n",
            "INFO:covid19_datasets.yougov_behavioural_tracker:Loaded\n"
          ],
          "name": "stdout"
        }
      ]
    },
    {
      "cell_type": "markdown",
      "metadata": {
        "id": "jIJxFF5mOD_B",
        "colab_type": "text"
      },
      "source": [
        "Here we plot information on mask usage statistics."
      ]
    },
    {
      "cell_type": "code",
      "metadata": {
        "id": "Iay9UC1dOD_C",
        "colab_type": "code",
        "outputId": "8466a621-c331-4c1c-a962-4befb0774b03",
        "colab": {
          "base_uri": "https://localhost:8080/",
          "height": 494
        }
      },
      "source": [
        "fig, ax = plt.subplots(figsize=(24, 8))\n",
        "mask_question = 'i12_health_1'\n",
        "counts = ygbt.data[['country', mask_question, 'RecordNo']].groupby(['country', mask_question]).count().unstack()\n",
        "normalised_counts = counts.div(counts.sum(axis=1), axis=0)\n",
        "normalised_counts['RecordNo'].plot(kind='bar', stacked=True, ax=ax)\n",
        "plt.title('Proportion of mask usage by country');"
      ],
      "execution_count": 9,
      "outputs": [
        {
          "output_type": "display_data",
          "data": {
            "image/png": "[encoded data removed]",
            "text/plain": [
              "<Figure size 1728x576 with 1 Axes>"
            ]
          },
          "metadata": {
            "tags": [],
            "needs_background": "light"
          }
        }
      ]
    },
    {
      "cell_type": "markdown",
      "metadata": {
        "id": "eIcOW3N8OD_G",
        "colab_type": "text"
      },
      "source": [
        "### ACAPS Government Measures\n",
        "\n",
        "The ACAPS #COVID19 Government Measures Dataset puts together all the measures implemented by governments worldwide in response to the Coronavirus pandemic. Data collection includes secondary data review."
      ]
    },
    {
      "cell_type": "code",
      "metadata": {
        "id": "dY_Z7rBXOD_G",
        "colab_type": "code",
        "colab": {}
      },
      "source": [
        "from covid19_datasets import AcapsGovernmentMeasures"
      ],
      "execution_count": 0,
      "outputs": []
    },
    {
      "cell_type": "code",
      "metadata": {
        "id": "K_sf431gOD_K",
        "colab_type": "code",
        "outputId": "dea4a9e7-8770-4af8-f980-37da15be7b3b",
        "colab": {
          "base_uri": "https://localhost:8080/",
          "height": 71
        }
      },
      "source": [
        "agm = AcapsGovernmentMeasures()"
      ],
      "execution_count": 5,
      "outputs": [
        {
          "output_type": "stream",
          "text": [
            "INFO:covid19_datasets.acaps_government_measures:Loading dataset from https://www.acaps.org/sites/acaps/files/resources/files/20200423_acaps_-_covid-19_goverment_measures_dataset_v10.xlsx\n",
            "INFO:covid19_datasets.acaps_government_measures:Loaded\n"
          ],
          "name": "stdout"
        }
      ]
    },
    {
      "cell_type": "markdown",
      "metadata": {
        "id": "xEJ0JAZQOD_N",
        "colab_type": "text"
      },
      "source": [
        "We can see all categories of interventions, and all individual measures"
      ]
    },
    {
      "cell_type": "code",
      "metadata": {
        "scrolled": true,
        "id": "cr-W-LkEOD_O",
        "colab_type": "code",
        "outputId": "d17a844b-de9f-41e4-c157-be99eb54d9c9",
        "colab": {
          "base_uri": "https://localhost:8080/",
          "height": 833
        }
      },
      "source": [
        "print(\"Intervention categories: \\n  * \" + '\\n  * '.join(agm.get_intervention_categories()))\n",
        "print()\n",
        "print(\"Individual measures: \\n  * \" + '\\n  * '.join(agm.get_measures()))"
      ],
      "execution_count": 6,
      "outputs": [
        {
          "output_type": "stream",
          "text": [
            "Intervention categories: \n",
            "  * Public health measures\n",
            "  * Governance and socio-economic measures\n",
            "  * Social distancing\n",
            "  * Movement restrictions\n",
            "  * Lockdown\n",
            "  * Humanitarian exemption\n",
            "\n",
            "Individual measures: \n",
            "  * Health screenings in airports and border crossings\n",
            "  * Introduction of isolation and quarantine policies\n",
            "  * Awareness campaigns\n",
            "  * Emergency administrative structures activated or established\n",
            "  * Limit public gatherings\n",
            "  * Border closure \n",
            "  * Schools closure \n",
            "  * Strengthening the public health system\n",
            "  * Limit product imports/exports\n",
            "  * Border checks \n",
            "  * International flights suspension\n",
            "  * Surveillance and monitoring\n",
            "  * Other public health measures enforced\n",
            "  * Domestic travel restrictions\n",
            "  * State of emergency declared\n",
            "  * General recommendations\n",
            "  * Partial lockdown\n",
            "  * Checkpoints within the country\n",
            "  * Economic measures\n",
            "  * Curfews\n",
            "  * Changes in prison-related policies\n",
            "  * Public services closure \n",
            "  * Military deployment\n",
            "  * Full lockdown\n",
            "  * Visa restrictions\n",
            "  * Lockdown of refugee/idp camps or other minorities\n",
            "  * Additional health/documents requirements upon arrival\n",
            "  * Requirement to wear protective gear in public\n",
            "  * Amendments to funeral and burial regulations\n",
            "  * Testing policy\n",
            "  * Psychological assistance and medical social work\n",
            "  * Mass population testing\n",
            "  * strengthening the public health system\n",
            "  * testing policy\n",
            "  * limit public gatherings\n",
            "  * Humanitarian exemptions\n",
            "  * Complete border closure\n",
            "  * curfews\n",
            "  * Obligatory medical tests not related to COVID-19\n"
          ],
          "name": "stdout"
        }
      ]
    },
    {
      "cell_type": "markdown",
      "metadata": {
        "id": "yj5IipOoOD_R",
        "colab_type": "text"
      },
      "source": [
        "As a simple usage example, we can plot the number of countries that has introduced some form of lockdown vs the number of countries that didn't."
      ]
    },
    {
      "cell_type": "code",
      "metadata": {
        "id": "klS0pRH9OD_R",
        "colab_type": "code",
        "colab": {}
      },
      "source": [
        "lockdown_countries_count = agm.get_data()[agm.get_data().MEASURE.str.contains(\"lockdown\")].COUNTRY.unique().shape[0]\n",
        "total_countries = agm.get_data().COUNTRY.unique().shape[0]\n",
        "no_lockdown_countries_count = total_countries - lockdown_countries_count"
      ],
      "execution_count": 0,
      "outputs": []
    },
    {
      "cell_type": "code",
      "metadata": {
        "id": "_ARrubimOD_U",
        "colab_type": "code",
        "outputId": "486d49da-78f4-4015-de6f-2fd878991426",
        "colab": {
          "base_uri": "https://localhost:8080/",
          "height": 264
        }
      },
      "source": [
        "plt.pie([lockdown_countries_count, no_lockdown_countries_count], labels=['Lockdown in place', 'No lockdown'],\n",
        "        autopct = lambda p: '{:.0f}'.format(p * total_countries / 100), startangle=90);\n",
        "plt.title('Full or partial lockdown in different countries');"
      ],
      "execution_count": 8,
      "outputs": [
        {
          "output_type": "display_data",
          "data": {
            "image/png": "[encoded data removed]",
            "text/plain": [
              "<Figure size 432x288 with 1 Axes>"
            ]
          },
          "metadata": {
            "tags": []
          }
        }
      ]
    },
    {
      "cell_type": "markdown",
      "metadata": {
        "id": "gAJmG7NpPnTW",
        "colab_type": "text"
      },
      "source": [
        "### Our World in Data\n",
        "Our World in Data collects data on the number of Covid-19 tests performed in multiple countries. They join this with case and death data from the European CDC. Conveniently they also provide cases and test counts normalised by population. See https://ourworldindata.org/coronavirus for more information."
      ]
    },
    {
      "cell_type": "code",
      "metadata": {
        "id": "eZUQNOEHVIkw",
        "colab_type": "code",
        "colab": {}
      },
      "source": [
        "from covid19_datasets import OWIDCovid19"
      ],
      "execution_count": 0,
      "outputs": []
    },
    {
      "cell_type": "code",
      "metadata": {
        "id": "MVPLcEIUOD_X",
        "colab_type": "code",
        "outputId": "ee1cc3df-c3fe-4c0a-b53a-edc5882c2299",
        "colab": {
          "base_uri": "https://localhost:8080/",
          "height": 68
        }
      },
      "source": [
        "owid = OWIDCovid19()"
      ],
      "execution_count": 10,
      "outputs": [
        {
          "output_type": "stream",
          "text": [
            "INFO:covid19_datasets.our_world_in_data:Loading dataset from https://covid.ourworldindata.org/data/owid-covid-data.csv\n",
            "INFO:numexpr.utils:NumExpr defaulting to 2 threads.\n",
            "INFO:covid19_datasets.our_world_in_data:Loaded\n"
          ],
          "name": "stdout"
        }
      ]
    },
    {
      "cell_type": "markdown",
      "metadata": {
        "id": "K6sqxpjGVZJr",
        "colab_type": "text"
      },
      "source": [
        "Example plot of cases vs tests for selected countries"
      ]
    },
    {
      "cell_type": "code",
      "metadata": {
        "id": "OI5CqVfMVNOy",
        "colab_type": "code",
        "outputId": "1156249d-f55b-4b0c-c15b-28cc87b89b31",
        "colab": {
          "base_uri": "https://localhost:8080/",
          "height": 327
        }
      },
      "source": [
        "fig, ax = plt.subplots(figsize=(24, 6))\n",
        "countries = ['United States', 'United Kingdom', 'France', 'Germany']\n",
        "plot_data = owid.get_data()\n",
        "plot_data = plot_data[plot_data.location.isin(countries)]\n",
        "sns.lineplot(data=plot_data, x='DATE', y='total_tests_per_thousand', hue='location')\n",
        "plt.title('Total tests per thousand people by country');"
      ],
      "execution_count": 11,
      "outputs": [
        {
          "output_type": "display_data",
          "data": {
            "image/png": "[encoded data removed]",
            "text/plain": [
              "<Figure size 1728x432 with 1 Axes>"
            ]
          },
          "metadata": {
            "tags": [],
            "needs_background": "light"
          }
        }
      ]
    },
    {
      "cell_type": "code",
      "metadata": {
        "id": "pBRIpe2wg3W1",
        "colab_type": "code",
        "colab": {}
      },
      "source": [
        ""
      ],
      "execution_count": 0,
      "outputs": []
    }
  ]
}