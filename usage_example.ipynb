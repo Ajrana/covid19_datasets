{
 "cells": [
  {
   "cell_type": "markdown",
   "metadata": {},
   "source": [
    "# COVID Datasets\n",
    "\n",
    "## 20th April 2020\n",
    "\n",
    "### Andrei Paleyes (apaleyes)\n",
    "\n",
    "This notebook provides usage examples for Covid data set loaders stored in a python repository.\n",
    "\n",
    "First step is to install the code."
   ]
  },
  {
   "cell_type": "code",
   "execution_count": 1,
   "metadata": {},
   "outputs": [
    {
     "name": "stdout",
     "output_type": "stream",
     "text": [
      "Collecting git+https://github.com/DELVE-covid19/covid19_datasets.git\n",
      "  Cloning https://github.com/DELVE-covid19/covid19_datasets.git to /private/var/folders/22/6ls22g994bdfdpwx4f9gcmsw0000gn/T/pip-req-build-yn4ujpeo\n",
      "  Running command git clone -q https://github.com/DELVE-covid19/covid19_datasets.git /private/var/folders/22/6ls22g994bdfdpwx4f9gcmsw0000gn/T/pip-req-build-yn4ujpeo\n",
      "Requirement already satisfied (use --upgrade to upgrade): covid19-datasets==0.1 from git+https://github.com/DELVE-covid19/covid19_datasets.git in /Users/neil/anaconda3/lib/python3.6/site-packages\n",
      "Requirement already satisfied: numpy in /Users/neil/anaconda3/lib/python3.6/site-packages (from covid19-datasets==0.1) (1.18.2)\n",
      "Requirement already satisfied: pandas in /Users/neil/anaconda3/lib/python3.6/site-packages (from covid19-datasets==0.1) (1.0.2)\n",
      "Requirement already satisfied: pandas-datareader in /Users/neil/anaconda3/lib/python3.6/site-packages (from covid19-datasets==0.1) (0.8.1)\n",
      "Requirement already satisfied: python-dateutil>=2.6.1 in /Users/neil/anaconda3/lib/python3.6/site-packages (from pandas->covid19-datasets==0.1) (2.8.1)\n",
      "Requirement already satisfied: pytz>=2017.2 in /Users/neil/anaconda3/lib/python3.6/site-packages (from pandas->covid19-datasets==0.1) (2019.3)\n",
      "Requirement already satisfied: lxml in /Users/neil/anaconda3/lib/python3.6/site-packages (from pandas-datareader->covid19-datasets==0.1) (4.5.0)\n",
      "Requirement already satisfied: requests>=2.3.0 in /Users/neil/anaconda3/lib/python3.6/site-packages (from pandas-datareader->covid19-datasets==0.1) (2.23.0)\n",
      "Requirement already satisfied: six>=1.5 in /Users/neil/anaconda3/lib/python3.6/site-packages (from python-dateutil>=2.6.1->pandas->covid19-datasets==0.1) (1.14.0)\n",
      "Requirement already satisfied: chardet<4,>=3.0.2 in /Users/neil/anaconda3/lib/python3.6/site-packages (from requests>=2.3.0->pandas-datareader->covid19-datasets==0.1) (3.0.4)\n",
      "Requirement already satisfied: idna<3,>=2.5 in /Users/neil/anaconda3/lib/python3.6/site-packages (from requests>=2.3.0->pandas-datareader->covid19-datasets==0.1) (2.9)\n",
      "Requirement already satisfied: certifi>=2017.4.17 in /Users/neil/anaconda3/lib/python3.6/site-packages (from requests>=2.3.0->pandas-datareader->covid19-datasets==0.1) (2019.11.28)\n",
      "Requirement already satisfied: urllib3!=1.25.0,!=1.25.1,<1.26,>=1.21.1 in /Users/neil/anaconda3/lib/python3.6/site-packages (from requests>=2.3.0->pandas-datareader->covid19-datasets==0.1) (1.25.8)\n",
      "Building wheels for collected packages: covid19-datasets\n",
      "  Building wheel for covid19-datasets (setup.py) ... \u001b[?25ldone\n",
      "\u001b[?25h  Created wheel for covid19-datasets: filename=covid19_datasets-0.1-py3-none-any.whl size=5388 sha256=3e260f62ca4357ee04e3272f6fb382e748518eb745c357f0b12ab32db7fb7b63\n",
      "  Stored in directory: /private/var/folders/22/6ls22g994bdfdpwx4f9gcmsw0000gn/T/pip-ephem-wheel-cache-efvxot46/wheels/60/cc/74/ea0d4a72a8727aca28a8cff3500db82510ac79d72dd1870b0e\n",
      "Successfully built covid19-datasets\n",
      "Note: you may need to restart the kernel to use updated packages.\n"
     ]
    }
   ],
   "source": [
    "%pip install git+https://github.com/DELVE-covid19/covid19_datasets.git"
   ]
  },
  {
   "cell_type": "markdown",
   "metadata": {},
   "source": [
    "Now some library files for visualising the data. "
   ]
  },
  {
   "cell_type": "code",
   "execution_count": 2,
   "metadata": {},
   "outputs": [],
   "source": [
    "import matplotlib.pyplot as plt\n",
    "import seaborn as sns"
   ]
  },
  {
   "cell_type": "markdown",
   "metadata": {},
   "source": [
    "Just for info, we include some log messages in this usage notebook to show how the data sets are loading."
   ]
  },
  {
   "cell_type": "code",
   "execution_count": 3,
   "metadata": {},
   "outputs": [],
   "source": [
    "# optional - see log messages about datasets loading\n",
    "\n",
    "import logging\n",
    "import sys\n",
    "logging.basicConfig(stream=sys.stdout, level=logging.INFO)"
   ]
  },
  {
   "cell_type": "markdown",
   "metadata": {},
   "source": [
    "### Oxford Government Policy Tracker\n",
    "\n",
    "The Oxford Government policy tracker available [here](https://www.bsg.ox.ac.uk/research/research-projects/coronavirus-government-response-tracker) allows different government responses to Covid19 be loaded in. It can be loaded from the `covid19_datasets` as follows."
   ]
  },
  {
   "cell_type": "code",
   "execution_count": 4,
   "metadata": {
    "scrolled": true
   },
   "outputs": [
    {
     "name": "stderr",
     "output_type": "stream",
     "text": [
      "/Users/neil/anaconda3/lib/python3.6/site-packages/pandas_datareader/compat/__init__.py:7: FutureWarning: pandas.util.testing is deprecated. Use the functions in the public API at pandas.testing instead.\n",
      "  from pandas.util.testing import assert_frame_equal\n"
     ]
    }
   ],
   "source": [
    "from covid19_datasets import OxfordGovernmentPolicyDataset"
   ]
  },
  {
   "cell_type": "markdown",
   "metadata": {},
   "source": [
    "You can create an instance of the data set by constructing a data set object."
   ]
  },
  {
   "cell_type": "code",
   "execution_count": 5,
   "metadata": {},
   "outputs": [
    {
     "name": "stdout",
     "output_type": "stream",
     "text": [
      "INFO:covid19_datasets.oxford_government_policy:Loading dataset from https://ocgptweb.azurewebsites.net/CSVDownload\n",
      "INFO:covid19_datasets.oxford_government_policy:Loaded\n"
     ]
    }
   ],
   "source": [
    "ogp = OxfordGovernmentPolicyDataset()"
   ]
  },
  {
   "cell_type": "markdown",
   "metadata": {},
   "source": [
    "As an example, we'll look at policy information from South Africa. "
   ]
  },
  {
   "cell_type": "code",
   "execution_count": 6,
   "metadata": {},
   "outputs": [],
   "source": [
    "country = 'South Africa'"
   ]
  },
  {
   "cell_type": "markdown",
   "metadata": {},
   "source": [
    "To share the policies, we'll use `matplotlib` to plot when different policies occured and also use print "
   ]
  },
  {
   "cell_type": "code",
   "execution_count": 7,
   "metadata": {},
   "outputs": [
    {
     "name": "stdout",
     "output_type": "stream",
     "text": [
      "INFO:numexpr.utils:NumExpr defaulting to 4 threads.\n"
     ]
    },
    {
     "data": {
      "image/png": "[encoded data removed]",
      "text/plain": [
       "<Figure size 1728x432 with 1 Axes>"
      ]
     },
     "metadata": {
      "needs_background": "light"
     },
     "output_type": "display_data"
    }
   ],
   "source": [
    "fig, ax = plt.subplots(figsize=(24, 6))\n",
    "ogp.get_country_data(country).ConfirmedCases.plot(ax=ax)\n",
    "\n",
    "policy_changes = ogp.get_country_policy_changes(country)\n",
    "\n",
    "for c in policy_changes.columns:\n",
    "    policy = policy_changes.loc[:, c]\n",
    "    policy = policy[policy]\n",
    "    if policy.any():\n",
    "        for d in policy.index:\n",
    "            ax.axvline(d, color='k', ls='--')"
   ]
  },
  {
   "cell_type": "markdown",
   "metadata": {},
   "source": [
    "We can also cycle through the policy changes to print when different changes were made."
   ]
  },
  {
   "cell_type": "code",
   "execution_count": 8,
   "metadata": {},
   "outputs": [
    {
     "name": "stdout",
     "output_type": "stream",
     "text": [
      "Policy School closing changed on 2020-03-18 00:00:00\n",
      "Policy Workplace closing changed on 2020-03-15 00:00:00\n",
      "Policy Workplace closing changed on 2020-03-18 00:00:00\n",
      "Policy Cancel public events changed on 2020-03-15 00:00:00\n",
      "Policy Close public transport changed on 2020-03-18 00:00:00\n",
      "Policy Public information campaigns changed on 2020-03-07 00:00:00\n",
      "Policy Restrictions on internal movement changed on 2020-03-15 00:00:00\n",
      "Policy Restrictions on internal movement changed on 2020-03-18 00:00:00\n",
      "Policy International travel controls changed on 2020-01-23 00:00:00\n",
      "Policy International travel controls changed on 2020-03-17 00:00:00\n",
      "Policy Fiscal measures changed on 2020-03-24 00:00:00\n",
      "Policy Fiscal measures changed on 2020-03-25 00:00:00\n",
      "Policy Fiscal measures changed on 2020-03-30 00:00:00\n",
      "Policy Monetary measures changed on 2020-02-29 00:00:00\n",
      "Policy Monetary measures changed on 2020-03-07 00:00:00\n",
      "Policy Monetary measures changed on 2020-03-20 00:00:00\n",
      "Policy Monetary measures changed on 2020-04-15 00:00:00\n",
      "Policy Emergency investment in health care changed on 2020-03-24 00:00:00\n",
      "Policy Emergency investment in health care changed on 2020-03-25 00:00:00\n",
      "Policy Testing framework changed on 2020-03-07 00:00:00\n",
      "Policy Testing framework changed on 2020-03-28 00:00:00\n",
      "Policy Contact tracing changed on 2020-03-07 00:00:00\n"
     ]
    }
   ],
   "source": [
    "for c in policy_changes.columns:\n",
    "    policy = policy_changes.loc[:, c]\n",
    "    policy = policy[policy]\n",
    "    if policy.any():\n",
    "        for d in policy.index:\n",
    "            print(f'Policy {c} changed on {d}')\n"
   ]
  },
  {
   "cell_type": "markdown",
   "metadata": {},
   "source": [
    "### World Bank Data\n",
    "\n",
    "The world bank provides population data. [Andrei can you link to source here?? & Give brief overview of the data?]"
   ]
  },
  {
   "cell_type": "code",
   "execution_count": 9,
   "metadata": {},
   "outputs": [],
   "source": [
    "from covid19_datasets import WorldBankDataBank, AGGREGATES"
   ]
  },
  {
   "cell_type": "code",
   "execution_count": null,
   "metadata": {},
   "outputs": [
    {
     "name": "stdout",
     "output_type": "stream",
     "text": [
      "INFO:covid19_datasets.world_bank:Loading dataset\n"
     ]
    }
   ],
   "source": [
    "wbdb = WorldBankDataBank()"
   ]
  },
  {
   "cell_type": "code",
   "execution_count": null,
   "metadata": {},
   "outputs": [],
   "source": [
    "df = wbdb.get_data().drop(AGGREGATES).nlargest(20, \"Population\")\n",
    "\n",
    "_, ax = plt.subplots(figsize=(20, 10))\n",
    "ax2 = ax.twinx() # Create another axes that shares the same x-axis as ax.\n",
    "\n",
    "df[\"Population\"].plot(kind='bar', color='blue', ax=ax, position=1, width=0.4)\n",
    "df[\"Population Density\"].plot(kind='bar', color='orange', ax=ax2, position=0, width=0.4)\n",
    "\n",
    "ax.set_ylabel('Population')\n",
    "ax2.set_ylabel('Population Density')\n",
    "\n",
    "plt.show()"
   ]
  },
  {
   "cell_type": "markdown",
   "metadata": {},
   "source": [
    "### YouGov Behavioural Tracker\n",
    "\n",
    "YouGov's behavioural tracker provides ... [Andrei again ... can you give info about he data source here and provide a link?]"
   ]
  },
  {
   "cell_type": "code",
   "execution_count": null,
   "metadata": {},
   "outputs": [],
   "source": [
    "from covid19_datasets import YouGovBehaviouralTracker"
   ]
  },
  {
   "cell_type": "code",
   "execution_count": null,
   "metadata": {},
   "outputs": [],
   "source": [
    "ygbt = YouGovBehaviouralTracker()"
   ]
  },
  {
   "cell_type": "markdown",
   "metadata": {},
   "source": [
    "Here we plot information on mask usage statistics."
   ]
  },
  {
   "cell_type": "code",
   "execution_count": null,
   "metadata": {},
   "outputs": [],
   "source": [
    "fig, ax = plt.subplots(figsize=(24, 8))\n",
    "mask_question = 'i12_health_1'\n",
    "counts = ygbt.data[['country', mask_question, 'RecordNo']].groupby(['country', mask_question]).count().unstack()\n",
    "normalised_counts = counts.div(counts.sum(axis=1), axis=0)\n",
    "normalised_counts['RecordNo'].plot(kind='bar', stacked=True, ax=ax)\n",
    "plt.title('Proportion of mask usage by country');"
   ]
  },
  {
   "cell_type": "code",
   "execution_count": null,
   "metadata": {},
   "outputs": [],
   "source": []
  }
 ],
 "metadata": {
  "kernelspec": {
   "display_name": "Python 3",
   "language": "python",
   "name": "python3"
  },
  "language_info": {
   "codemirror_mode": {
    "name": "ipython",
    "version": 3
   },
   "file_extension": ".py",
   "mimetype": "text/x-python",
   "name": "python",
   "nbconvert_exporter": "python",
   "pygments_lexer": "ipython3",
   "version": "3.6.10"
  }
 },
 "nbformat": 4,
 "nbformat_minor": 4
}
